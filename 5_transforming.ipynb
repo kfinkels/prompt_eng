{
 "cells": [
  {
   "cell_type": "markdown",
   "id": "60610500-c185-4c2f-aa65-ef049b4b0a1a",
   "metadata": {},
   "source": [
    "# Transforming\n",
    "\n",
    "In this notebook, we will explore how to use Large Language Models for text transformation tasks such as language translation, spelling and grammar checking, tone adjustment, and format conversion.\n",
    "\n",
    "## Setup"
   ]
  },
  {
   "cell_type": "code",
   "execution_count": null,
   "id": "67d5b9c1-d8a5-4e56-ab2f-e65ca407a371",
   "metadata": {},
   "outputs": [],
   "source": [
    "!pip install redlines"
   ]
  },
  {
   "cell_type": "code",
   "execution_count": 1,
   "id": "ea2c6336-218a-4079-8d1d-25d006273e39",
   "metadata": {},
   "outputs": [],
   "source": [
    "import ollama\n",
    "\n",
    "\n",
    "def get_completion(prompt, model='llama3'):\n",
    "    \"\"\"\n",
    "    Get the completion for a given prompt using the specified model.\n",
    "    Returns the answer with the highest score.\n",
    "    \"\"\"\n",
    "    response = ollama.chat(model=model, messages=[{\n",
    "        'role': 'user',\n",
    "        'content': prompt,\n",
    "      }])\n",
    "    return response['message']['content']"
   ]
  },
  {
   "cell_type": "markdown",
   "id": "b8cac092-ad86-4c55-b893-2912991fe7c1",
   "metadata": {},
   "source": [
    "## Translation\n",
    "\n",
    "The model is trained with sources in many languages. This gives the model the ability to do translation. Here are some examples of how to use this capability."
   ]
  },
  {
   "cell_type": "code",
   "execution_count": 2,
   "id": "5fd5169a-deb9-47af-aabd-3ae71a80cc11",
   "metadata": {},
   "outputs": [
    {
     "name": "stdout",
     "output_type": "stream",
     "text": [
      "Here is the translation:\n",
      "\n",
      "Hola, me gustaría ordenar un blender.\n",
      "\n",
      "(Note: If you're ordering online or over the phone, you might want to be more specific about what kind of blender you want. For example: \"Hola, me gustaría ordenar un vaso de licuadora\")\n"
     ]
    }
   ],
   "source": [
    "prompt = f\"\"\"\n",
    "Translate the following English text to Spanish: \n",
    "```Hi, I would like to order a blender```\n",
    "\"\"\"\n",
    "\n",
    "print(get_completion(prompt))"
   ]
  },
  {
   "cell_type": "code",
   "execution_count": 3,
   "id": "ce0d85b0-997a-4ef7-9d58-060fe5fc02a1",
   "metadata": {},
   "outputs": [
    {
     "name": "stdout",
     "output_type": "stream",
     "text": [
      "A nice one!\n",
      "\n",
      "The answer is: French!\n",
      "\n",
      "(`Combien` means \"how much\", `coûte` means \"costs\", and `le lampadaire` refers to a lamppost or streetlamp.)\n"
     ]
    }
   ],
   "source": [
    "prompt = f\"\"\"\n",
    "Tell me which language this is: \n",
    "```Combien coûte le lampadaire?```\n",
    "\"\"\"\n",
    "\n",
    "print(get_completion(prompt))"
   ]
  },
  {
   "cell_type": "code",
   "execution_count": 4,
   "id": "3221c558-bcc1-4033-b930-c7004dc41548",
   "metadata": {},
   "outputs": [
    {
     "name": "stdout",
     "output_type": "stream",
     "text": [
      "Here are the translations:\n",
      "\n",
      "**Formal form:**\n",
      "\n",
      "¿Le gustaría ordenar un almohadón?\n",
      "\n",
      "* \"Le\" is used as the formal direct object pronoun, meaning \"to him/her/you (singular)\".\n",
      "* \"gustaría\" is the formal way of saying \"would like\".\n",
      "* \"ordenar\" means \"to order\".\n",
      "* \"almohadón\" is the formal word for \"pillow\".\n",
      "\n",
      "**Informal form:**\n",
      "\n",
      "¿Te gustaría ordenar un almohadón?\n",
      "\n",
      "* \"Te\" is used as the informal direct object pronoun, meaning \"to you (singular)\".\n",
      "* \"gustaría\" is the informal way of saying \"would like\".\n",
      "* The rest of the sentence remains the same.\n",
      "\n",
      "Note that in both forms, I kept the verb conjugation consistent with the subject (\"you\") being singular. If the subject were plural, the verb would change accordingly.\n"
     ]
    }
   ],
   "source": [
    "prompt = f\"\"\"\n",
    "Translate the following text to Spanish in both the \n",
    "formal and informal forms: \n",
    "'Would you like to order a pillow?'\n",
    "\"\"\"\n",
    "\n",
    "print(get_completion(prompt))"
   ]
  },
  {
   "cell_type": "markdown",
   "id": "4a0383cc-9351-4597-a81a-bb873946d34e",
   "metadata": {},
   "source": [
    "## Tone Transformation\n",
    "Writing can vary based on the intended audience. The model can produce different tones."
   ]
  },
  {
   "cell_type": "code",
   "execution_count": 5,
   "id": "2da1489e-433e-408b-a39c-0aea4b820d20",
   "metadata": {},
   "outputs": [
    {
     "name": "stdout",
     "output_type": "stream",
     "text": [
      "Here's the translation:\n",
      "\n",
      "Dear [Recipient],\n",
      "\n",
      "I wanted to bring to your attention a new product that I think has great potential. The standing lamp in question is quite impressive, and I thought you should know about it.\n",
      "\n",
      "Best,\n",
      "Joe\n"
     ]
    }
   ],
   "source": [
    "prompt = f\"\"\"\n",
    "Translate the following from slang to a business letter: \n",
    "'Dude, This is Joe, check out this spec on this standing lamp.'\n",
    "\"\"\"\n",
    "\n",
    "print(get_completion(prompt))"
   ]
  },
  {
   "cell_type": "markdown",
   "id": "8f79c8c4-aa86-4992-b091-dfd41e3b9eeb",
   "metadata": {},
   "source": [
    "## Format Conversion\n",
    "The model can translate between formats. The prompt should describe the input and output formats."
   ]
  },
  {
   "cell_type": "code",
   "execution_count": 10,
   "id": "699fc051-aa14-48b5-b4a6-a05edcb69354",
   "metadata": {},
   "outputs": [
    {
     "name": "stdout",
     "output_type": "stream",
     "text": [
      "Here is the translation of your Python dictionary from JSON to an HTML table with column headers and title:\n",
      "\n",
      "```html\n",
      "<table>\n",
      "    <tr>\n",
      "        <th>Employee Name</th>\n",
      "        <th>Email</th>\n",
      "    </tr>\n",
      "    {% for employee in resturant_employees %}\n",
      "    <tr>\n",
      "        <td>{{ employee.name }}</td>\n",
      "        <td>{{ employee.email }}</td>\n",
      "    </tr>\n",
      "    {% endfor %}\n",
      "</table>\n",
      "\n",
      "<h2>Resturant Employees</h2>\n",
      "```\n",
      "\n",
      "This code snippet will generate an HTML table with two columns: \"Employee Name\" and \"Email\". Each row in the table corresponds to a single employee from your dictionary.\n"
     ]
    }
   ],
   "source": [
    "data_json = { \"resturant employees\" :[ \n",
    "    {\"name\":\"Shyam\", \"email\":\"shyamjaiswal@gmail.com\"},\n",
    "    {\"name\":\"Bob\", \"email\":\"bob32@gmail.com\"},\n",
    "    {\"name\":\"Jai\", \"email\":\"jai87@gmail.com\"}\n",
    "]}\n",
    "\n",
    "prompt = f\"\"\"\n",
    "Translate the following python dictionary from JSON to an HTML \n",
    "table with column headers and title: {data_json}\n",
    "Skip the how to and print only the HTML \n",
    "\"\"\"\n",
    "\n",
    "response = get_completion(prompt)\n",
    "print(response)"
   ]
  },
  {
   "cell_type": "code",
   "execution_count": 7,
   "id": "ee1c280e-c50d-4601-b60f-8e13cf7f571c",
   "metadata": {},
   "outputs": [
    {
     "data": {
      "text/html": [
       "Here is the HTML table:\n",
       "```\n",
       "<table>\n",
       "  <tr>\n",
       "    <th>Name</th>\n",
       "    <th>Email</th>\n",
       "  </tr>\n",
       "  <tr>\n",
       "    <td>Shyam</td>\n",
       "    <td>shyamjaiswal@gmail.com</td>\n",
       "  </tr>\n",
       "  <tr>\n",
       "    <td>Bob</td>\n",
       "    <td>bob32@gmail.com</td>\n",
       "  </tr>\n",
       "  <tr>\n",
       "    <td>Jai</td>\n",
       "    <td>jai87@gmail.com</td>\n",
       "  </tr>\n",
       "</table>\n",
       "```\n",
       "Let me know if you need any further assistance!"
      ],
      "text/plain": [
       "<IPython.core.display.HTML object>"
      ]
     },
     "metadata": {},
     "output_type": "display_data"
    }
   ],
   "source": [
    "from IPython.display import display, Markdown, Latex, HTML, JSON\n",
    "display(HTML(response))"
   ]
  },
  {
   "cell_type": "markdown",
   "id": "0c0abf6a-ee55-45f0-8af4-2f39c166ec14",
   "metadata": {},
   "source": [
    "## Spellcheck/Grammar check.\n",
    "\n",
    "Here is an example of common grammar and spelling problem and the LLM's response. "
   ]
  },
  {
   "cell_type": "code",
   "execution_count": 8,
   "id": "b6ea0a83-b9ce-46b1-96a0-c63c49d6230c",
   "metadata": {},
   "outputs": [
    {
     "name": "stdout",
     "output_type": "stream",
     "text": [
      "Here is the proofread and corrected review:\n",
      "\n",
      "\"I bought this plush panda toy for my daughter's birthday because she keeps taking mine from my room. Yes, adults also appreciate pandas! She takes it everywhere with her, and it's incredibly soft and adorable. One of the ears is slightly lower than the other, which I don't think was intentionally designed to be asymmetrical. While the plush panda is cute, I do feel that it's a bit small for what I paid for it. I'm not sure if there are larger options available at the same price point. However, the toy arrived a day earlier than expected, so I got to enjoy it myself before giving it to my daughter.\"\n"
     ]
    }
   ],
   "source": [
    "text = f\"\"\"\n",
    "Got this for my daughter for her birthday cuz she keeps taking \n",
    "mine from my room.  Yes, adults also like pandas too.  She takes \n",
    "it everywhere with her, and it's super soft and cute.  One of the \n",
    "ears is a bit lower than the other, and I don't think that was \n",
    "designed to be asymmetrical. It's a bit small for what I paid for it \n",
    "though. I think there might be other options that are bigger for \n",
    "the same price.  It arrived a day earlier than expected, so I got \n",
    "to play with it myself before I gave it to my daughter.\n",
    "\"\"\"\n",
    "prompt = f\"proofread and correct this review: ```{text}```\"\n",
    "\n",
    "response = get_completion(prompt)\n",
    "print(response)"
   ]
  },
  {
   "cell_type": "code",
   "execution_count": 9,
   "id": "f49c608b-9d97-42d1-8099-7347acf653f5",
   "metadata": {},
   "outputs": [
    {
     "data": {
      "text/markdown": [
       "<span style='color:red;font-weight:700;text-decoration:line-through;'>Got </span><span style='color:green;font-weight:700;'>Here is the proofread and corrected review: </span>\n",
       "\n",
       "<span style='color:green;font-weight:700;'>\"I bought </span>this <span style='color:green;font-weight:700;'>plush panda toy </span>for my <span style='color:red;font-weight:700;text-decoration:line-through;'>daughter for her </span><span style='color:green;font-weight:700;'>daughter's </span>birthday <span style='color:red;font-weight:700;text-decoration:line-through;'>cuz </span><span style='color:green;font-weight:700;'>because </span>she keeps taking <span style='color:red;font-weight:700;text-decoration:line-through;'>¶ </span>mine from my <span style='color:red;font-weight:700;text-decoration:line-through;'>room.  </span><span style='color:green;font-weight:700;'>room. </span>Yes, adults also <span style='color:red;font-weight:700;text-decoration:line-through;'>like pandas too.  </span><span style='color:green;font-weight:700;'>appreciate pandas! </span>She takes <span style='color:red;font-weight:700;text-decoration:line-through;'>¶ </span>it everywhere with her, and it's <span style='color:red;font-weight:700;text-decoration:line-through;'>super </span><span style='color:green;font-weight:700;'>incredibly </span>soft and <span style='color:red;font-weight:700;text-decoration:line-through;'>cute.  </span><span style='color:green;font-weight:700;'>adorable. </span>One of the <span style='color:red;font-weight:700;text-decoration:line-through;'>¶ </span>ears is <span style='color:red;font-weight:700;text-decoration:line-through;'>a bit </span><span style='color:green;font-weight:700;'>slightly </span>lower than the other, <span style='color:red;font-weight:700;text-decoration:line-through;'>and </span><span style='color:green;font-weight:700;'>which </span>I don't think <span style='color:red;font-weight:700;text-decoration:line-through;'>that </span>was <span style='color:red;font-weight:700;text-decoration:line-through;'>¶ </span><span style='color:green;font-weight:700;'>intentionally </span>designed to be asymmetrical. <span style='color:red;font-weight:700;text-decoration:line-through;'>It's </span><span style='color:green;font-weight:700;'>While the plush panda is cute, I do feel that it's </span>a bit small for what I paid for <span style='color:red;font-weight:700;text-decoration:line-through;'>it ¶ though. I think </span><span style='color:green;font-weight:700;'>it. I'm not sure if </span>there <span style='color:red;font-weight:700;text-decoration:line-through;'>might be other </span><span style='color:green;font-weight:700;'>are larger </span>options <span style='color:red;font-weight:700;text-decoration:line-through;'>that are bigger for ¶ </span><span style='color:green;font-weight:700;'>available at </span>the same <span style='color:red;font-weight:700;text-decoration:line-through;'>price.  It </span><span style='color:green;font-weight:700;'>price point. However, the toy </span>arrived a day earlier than expected, so I got <span style='color:red;font-weight:700;text-decoration:line-through;'>¶ </span>to <span style='color:red;font-weight:700;text-decoration:line-through;'>play with </span><span style='color:green;font-weight:700;'>enjoy </span>it myself before <span style='color:red;font-weight:700;text-decoration:line-through;'>I gave </span><span style='color:green;font-weight:700;'>giving </span>it to my <span style='color:red;font-weight:700;text-decoration:line-through;'>daughter.</span><span style='color:green;font-weight:700;'>daughter.\"</span>"
      ],
      "text/plain": [
       "<IPython.core.display.Markdown object>"
      ]
     },
     "metadata": {},
     "output_type": "display_data"
    }
   ],
   "source": [
    "from redlines import Redlines\n",
    "\n",
    "diff = Redlines(text,response)\n",
    "display(Markdown(diff.output_markdown))"
   ]
  },
  {
   "cell_type": "code",
   "execution_count": 11,
   "id": "b3ced410-9e82-4882-a876-d927489e1bc1",
   "metadata": {},
   "outputs": [
    {
     "data": {
      "text/markdown": [
       "Here is the proofread and rewritten review in markdown format, targeting an advanced reader and following APA style guide:\n",
       "\n",
       "**Panda Soft Toy Review**\n",
       "================================\n",
       "\n",
       "I purchased this panda soft toy for my daughter's birthday after she repeatedly borrowed mine from my room. I was delighted to discover that adults can also appreciate these cuddly creatures! The plush toy is exceptionally soft and adorable, making it a perfect companion.\n",
       "\n",
       "While the overall design of the panda is charming, one notable feature caught my attention: its asymmetrical ears. Although not intentionally designed this way, the slight difference in ear height adds a touch of whimsy to an otherwise classic design. However, I was slightly disappointed by the toy's relatively small size considering the price point.\n",
       "\n",
       "To my surprise, the item arrived a day earlier than expected, giving me the opportunity to indulge in some quality playtime with the panda before presenting it to my daughter. In hindsight, I may have explored alternative options that offer similar value for money.\n",
       "\n",
       "**Rating:** 4 out of 5 stars\n",
       "\n",
       "Let me know if you need any further adjustments!"
      ],
      "text/plain": [
       "<IPython.core.display.Markdown object>"
      ]
     },
     "metadata": {},
     "output_type": "display_data"
    }
   ],
   "source": [
    "prompt = f\"\"\"\n",
    "proofread and correct this review. Make it more compelling. \n",
    "Ensure it follows APA style guide and targets an advanced reader. \n",
    "Output in markdown format.\n",
    "Text: ```{text}```\n",
    "\"\"\"\n",
    "response = get_completion(prompt)\n",
    "display(Markdown(response))"
   ]
  },
  {
   "cell_type": "code",
   "execution_count": null,
   "id": "34937df7-ae2e-4d4c-aa3f-115038bf2789",
   "metadata": {},
   "outputs": [],
   "source": []
  }
 ],
 "metadata": {
  "kernelspec": {
   "display_name": "Python 3 (ipykernel)",
   "language": "python",
   "name": "python3"
  },
  "language_info": {
   "codemirror_mode": {
    "name": "ipython",
    "version": 3
   },
   "file_extension": ".py",
   "mimetype": "text/x-python",
   "name": "python",
   "nbconvert_exporter": "python",
   "pygments_lexer": "ipython3",
   "version": "3.11.0"
  }
 },
 "nbformat": 4,
 "nbformat_minor": 5
}
