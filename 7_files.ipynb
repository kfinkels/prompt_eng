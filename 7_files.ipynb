{
 "cells": [
  {
   "cell_type": "markdown",
   "id": "9ecd03a8-1305-4758-a822-fe30c795391b",
   "metadata": {},
   "source": "# Working with local files"
  },
  {
   "metadata": {},
   "cell_type": "markdown",
   "source": "Allow the model to extract specific information from a local file, simulating a real-world use case of processing structured or unstructured data.",
   "id": "8a6d31e23b028447"
  },
  {
   "metadata": {},
   "cell_type": "markdown",
   "source": "You have a local file containing data (e.g., a JSON, CSV, or plain text log). Your task is to write a prompt that instructs the model to read and extract specific information from the file, such as identifying trends, filtering relevant data, or summarizing the contents.",
   "id": "693932960f956f79"
  },
  {
   "metadata": {},
   "cell_type": "code",
   "source": [
    "import google.generativeai as genai\n",
    "\n",
    "\n",
    "genai.configure(api_key=\"<your key>\")\n",
    "model = genai.GenerativeModel(model_name=\"gemini-1.5-flash\")  \n",
    "\n",
    "# Step 1: Upload the PDF file\n",
    "pdf_file_path = \"program-in-python.pdf\"  \n",
    "sample_file = genai.upload_file(path=pdf_file_path, display_name=\"program-in-python PDF Document\")\n",
    "\n",
    "# Step 2: Generate a summary of the uploaded PDF\n",
    "prompt = \"Print a summary of the document.\"\n",
    "response = model.generate_content([sample_file, prompt])\n",
    "\n",
    "# Step 3: Print the summary response\n",
    "print(\"Summary of the document:\")\n",
    "print(response.text)\n"
   ],
   "id": "98e66479b725326a",
   "outputs": [],
   "execution_count": null
  },
  {
   "metadata": {},
   "cell_type": "code",
   "source": [
    "prompt = \"According to the document, what is the main programming language used?\"\n",
    "response = model.generate_content([sample_file, prompt])\n",
    "print(response.text)\n"
   ],
   "id": "d1f26273732d75e6",
   "outputs": [],
   "execution_count": null
  },
  {
   "metadata": {},
   "cell_type": "code",
   "source": [
    "prompt = \"According to the document, what is the way to print 1,22,333,444?\"\n",
    "response = model.generate_content([sample_file, prompt])\n",
    "print(response.text)"
   ],
   "id": "5dff6a3e94802c12",
   "outputs": [],
   "execution_count": null
  },
  {
   "metadata": {},
   "cell_type": "markdown",
   "source": "# Exercise",
   "id": "7cd2e285d6d43d98"
  },
  {
   "metadata": {},
   "cell_type": "markdown",
   "source": [
    "You have a log file (app.log) that contains various events, such as errors, warnings, and informational messages. The goal is to extract key insights like:\n",
    "\t1.\tThe total number of errors.\n",
    "\t2.\tThe most common error message.\n",
    "\t3.\tThe timestamp of the last error."
   ],
   "id": "8cc7ee02152f70c7"
  },
  {
   "metadata": {},
   "cell_type": "markdown",
   "source": "Validate your response with:",
   "id": "adc7e45e73a4c156"
  },
  {
   "metadata": {},
   "cell_type": "code",
   "source": [
    "!pip install pandas --quiet\n",
    "\n",
    "import pandas as pd\n",
    "import re\n",
    "from collections import Counter\n",
    "\n",
    "# Read the log file content\n",
    "with open(\"app.log\", \"r\") as file:\n",
    "    log_content = file.readlines()\n",
    "\n",
    "# Step 1: Parse the log content into a structured format\n",
    "logs = []\n",
    "for line in log_content:\n",
    "    match = re.match(r\"(?P<timestamp>\\S+ \\S+) \\[(?P<level>\\w+)] (?P<message>.+)\", line)\n",
    "    if match:\n",
    "        logs.append(match.groupdict())\n",
    "\n",
    "# Step 2: Convert to DataFrame for analysis\n",
    "df = pd.DataFrame(logs)\n",
    "\n",
    "# Step 3: Filter error logs\n",
    "error_logs = df[df['level'] == 'ERROR']\n",
    "\n",
    "# Step 4: Count total errors\n",
    "total_errors = len(error_logs)\n",
    "\n",
    "# Step 5: Find the most common error message\n",
    "most_common_error = Counter(error_logs['message']).most_common(1)[0][0] if not error_logs.empty else None\n",
    "\n",
    "# Step 6: Find the timestamp of the last error\n",
    "last_error_timestamp = error_logs['timestamp'].iloc[-1] if not error_logs.empty else None\n",
    "\n",
    "# Print the results\n",
    "print(f\"Total Errors: {total_errors}\")\n",
    "print(f\"Most Common Error: \\\"{most_common_error}\\\"\")\n",
    "print(f\"Last Error Timestamp: {last_error_timestamp}\")"
   ],
   "id": "42b6f4ab02febd41",
   "outputs": [],
   "execution_count": null
  },
  {
   "metadata": {},
   "cell_type": "code",
   "source": "",
   "id": "e47cbb241e31f293",
   "outputs": [],
   "execution_count": null
  }
 ],
 "metadata": {
  "kernelspec": {
   "display_name": "Python 3 (ipykernel)",
   "language": "python",
   "name": "python3"
  },
  "language_info": {
   "codemirror_mode": {
    "name": "ipython",
    "version": 3
   },
   "file_extension": ".py",
   "mimetype": "text/x-python",
   "name": "python",
   "nbconvert_exporter": "python",
   "pygments_lexer": "ipython3",
   "version": "3.11.0"
  }
 },
 "nbformat": 4,
 "nbformat_minor": 5
}
