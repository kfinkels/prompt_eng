{
 "cells": [
  {
   "cell_type": "code",
   "execution_count": 1,
   "id": "b33cf654-f2b8-4128-923b-77d0334c3e88",
   "metadata": {},
   "outputs": [],
   "source": [
    "import ollama\n",
    "\n",
    "\n",
    "def get_completion(prompt, model='llama3'):\n",
    "    \"\"\"\n",
    "    Get the completion for a given prompt using the specified model.\n",
    "    Returns the answer with the highest score.\n",
    "    \"\"\"\n",
    "    response = ollama.chat(model=model, messages=[{\n",
    "        'role': 'user',\n",
    "        'content': prompt,\n",
    "      }])\n",
    "    return response['message']['content']"
   ]
  },
  {
   "cell_type": "markdown",
   "id": "03472291-5aaf-4cbe-bf8e-7b709422e359",
   "metadata": {},
   "source": [
    "# Strategy: Split complex tasks into simpler tasks"
   ]
  },
  {
   "cell_type": "markdown",
   "id": "99719fa8-5260-4493-99a0-d1b2f73cb67d",
   "metadata": {},
   "source": [
    "## Tactic: Use intent classification to identify the most relevant instructions for a user query"
   ]
  },
  {
   "cell_type": "markdown",
   "id": "45cb406c-4237-4752-9073-1582a7ff75de",
   "metadata": {},
   "source": [
    "Step 1: Identify the User’s Intent\n",
    "\n",
    "Step 2: Provide the Most Relevant Instructions"
   ]
  },
  {
   "cell_type": "code",
   "execution_count": 2,
   "id": "b1da1a4f-eddd-4ec0-a590-edfe8d7a8282",
   "metadata": {},
   "outputs": [
    {
     "name": "stdout",
     "output_type": "stream",
     "text": [
      "I'd be happy to try and assist you with installing the update on your software.\n",
      "\n",
      "To better assist you, can you please provide me with some more information about the issue you're experiencing?\n",
      "\n",
      "* What is the name of the software that's giving you trouble?\n",
      "* What type of error message or problem are you seeing when trying to install the update (e.g. \"update failed\", \"download failed\", etc.)?\n",
      "* Have you tried restarting your computer or device before attempting to install the update?\n",
      "* Are there any specific steps you're following to try and install the update, or is it automatic?\n",
      "\n",
      "The more information you can provide, the better equipped I'll be to help you troubleshoot and resolve the issue!\n"
     ]
    }
   ],
   "source": [
    "prompt = \"\"\"I'm having trouble installing the new update on my software. Can you help?\"\"\"\n",
    " \n",
    "print(get_completion(prompt))"
   ]
  },
  {
   "cell_type": "code",
   "execution_count": null,
   "id": "2d4ef3f9-2dc5-4808-bbbb-fe4c981082ce",
   "metadata": {},
   "outputs": [],
   "source": []
  }
 ],
 "metadata": {
  "kernelspec": {
   "display_name": "Python 3 (ipykernel)",
   "language": "python",
   "name": "python3"
  },
  "language_info": {
   "codemirror_mode": {
    "name": "ipython",
    "version": 3
   },
   "file_extension": ".py",
   "mimetype": "text/x-python",
   "name": "python",
   "nbconvert_exporter": "python",
   "pygments_lexer": "ipython3",
   "version": "3.11.0"
  }
 },
 "nbformat": 4,
 "nbformat_minor": 5
}
