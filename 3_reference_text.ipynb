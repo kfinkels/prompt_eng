{
 "cells": [
  {
   "cell_type": "code",
   "execution_count": 1,
   "id": "8bc7027b-cfb1-44e0-9e40-a0ffda6007b3",
   "metadata": {},
   "outputs": [],
   "source": [
    "import ollama\n",
    "\n",
    "\n",
    "def get_completion(prompt, model='llama3'):\n",
    "    \"\"\"\n",
    "    Get the completion for a given prompt using the specified model.\n",
    "    Returns the answer with the highest score.\n",
    "    \"\"\"\n",
    "    response = ollama.chat(model=model, messages=[{\n",
    "        'role': 'user',\n",
    "        'content': prompt,\n",
    "      }])\n",
    "    return response['message']['content']"
   ]
  },
  {
   "cell_type": "markdown",
   "id": "c9ef589e-7ffe-4503-a1f0-689715bbbd16",
   "metadata": {},
   "source": [
    "# Strategy: Provide reference text"
   ]
  },
  {
   "cell_type": "markdown",
   "id": "b926d470-be7e-43b7-a9c9-50919d04c18d",
   "metadata": {},
   "source": [
    "## Tactic: Instruct the model to answer using a reference text"
   ]
  },
  {
   "cell_type": "markdown",
   "id": "e2bc7e55-787d-44ca-b1ad-488e5844d05a",
   "metadata": {},
   "source": [
    "If we give the model trusted information related to the current query, we can instruct it to use that information to create its answer."
   ]
  },
  {
   "cell_type": "code",
   "execution_count": 2,
   "id": "96ddb097-c53d-4b9a-8a81-008fb85786bc",
   "metadata": {},
   "outputs": [
    {
     "name": "stdout",
     "output_type": "stream",
     "text": [
      "According to the Wikipedia page on List of 2022 Winter Olympics medal winners, the team that won the gold medal in men's curling at the 2022 Winter Olympics was Team Sweden. \n",
      "\n",
      "So, the answer is: Team Sweden!\n"
     ]
    }
   ],
   "source": [
    "prompt = f\"\"\"Use the provided information in the link: \n",
    "https://en.wikipedia.org/wiki/List_of_2022_Winter_Olympics_medal_winners to answer questions. \n",
    "Question: Who won the gold medal in men's curling at the 2022 Winter Olympics?\"\"\"\n",
    "\n",
    "print(get_completion(prompt))"
   ]
  },
  {
   "cell_type": "markdown",
   "id": "f35fef62-300b-4e20-a585-c81ff2b55890",
   "metadata": {},
   "source": [
    "## Tactic: Instruct the model to answer with citations from a reference text"
   ]
  },
  {
   "cell_type": "markdown",
   "id": "3512293d-0b14-47b8-8899-71d0fdce0f50",
   "metadata": {},
   "source": [
    "If the input includes relevant knowledge, you can ask the model to add citations by referencing the provided documents. These citations can be verified by matching strings in the documents."
   ]
  },
  {
   "cell_type": "code",
   "execution_count": 3,
   "id": "fa47924f-9f4d-4c7e-8323-e83ac125f973",
   "metadata": {},
   "outputs": [
    {
     "name": "stdout",
     "output_type": "stream",
     "text": [
      "According to the provided text, companies can effectively support their remote employees by finding \"innovative solutions\" to achieve this goal. This is stated in the passage:\n",
      "\n",
      "\"As companies continue to adapt to this new way of working, they must find innovative solutions to support their employees and maintain productivity.\"\n",
      "\n",
      "This implies that companies should actively seek out new approaches or methods to ensure their remote employees remain productive and engaged.\n",
      "\n",
      "[Citation: \"As companies continue to adapt to this new way of working, they must find innovative solutions to support their employees and maintain productivity.\"]\n"
     ]
    }
   ],
   "source": [
    "text = f\"\"\"The rise of remote work has transformed the traditional office environment, allowing employees to work from virtually \n",
    "anywhere in the world. This shift has led to increased flexibility and autonomy for workers, but it has also introduced \n",
    "new challenges such as maintaining work-life balance and ensuring effective communication within teams. \n",
    "As companies continue to adapt to this new way of working, they must find innovative solutions to support their \n",
    "employees and maintain productivity.\"\"\"\n",
    "\n",
    "prompt = f\"\"\"\n",
    "SYSTEM\n",
    "You will be provided with a text delimited by triple single quotes and a question. \n",
    "Your task is to answer the question using only the provided document and to cite the passage(s) of the document used \n",
    "to answer the question. If the document does not contain the information needed to answer this question then \n",
    "simply write: \"Insufficient information.\" If an answer to the question is provided, \n",
    "it must be annotated with a citation. \n",
    "USER\n",
    "'''{text}'''\n",
    "\n",
    "Question: How can companies effectively support their remote employees to ensure they \n",
    "remain productive and engaged?\"\"\"\n",
    "\n",
    "print(get_completion(prompt))"
   ]
  },
  {
   "cell_type": "markdown",
   "id": "3274ca00-cd6d-485c-a666-661be427c5e9",
   "metadata": {},
   "source": [
    "### Here is an example for Insufficient information"
   ]
  },
  {
   "cell_type": "code",
   "execution_count": 4,
   "id": "51f91e72-aab8-4df6-9914-3c398fdbbfb8",
   "metadata": {},
   "outputs": [
    {
     "name": "stdout",
     "output_type": "stream",
     "text": [
      "Insufficient information. The provided text does not mention a specific number of companies adapting to the new way of working. It only provides general statements about the shift towards remote work and its implications for employees and companies.\n"
     ]
    }
   ],
   "source": [
    "text = f\"\"\"he rise of remote work has transformed the traditional office environment, allowing employees to work from virtually \n",
    "anywhere in the world. This shift has led to increased flexibility and autonomy for workers, but it has also introduced \n",
    "new challenges such as maintaining work-life balance and ensuring effective communication within teams. \n",
    "As companies continue to adapt to this new way of working, they must find innovative solutions to support their \n",
    "employees and maintain productivity.\"\"\"\n",
    "\n",
    "prompt = f\"\"\"\n",
    "SYSTEM\n",
    "You will be provided with a text delimited by triple single quotes and a question. \n",
    "Your task is to answer the question using only the provided document and to cite the passage(s) of the document used \n",
    "to answer the question. If the document does not contain the information needed to answer this question then \n",
    "simply write: \"Insufficient information.\" If an answer to the question is provided, \n",
    "it must be annotated with a citation. \n",
    "USER\n",
    "'''{text}'''\n",
    "\n",
    "Question: How many companies adapting the new way of working?\"\"\"\n",
    "\n",
    "print(get_completion(prompt))"
   ]
  },
  {
   "cell_type": "markdown",
   "id": "700824a8-6356-44a1-a134-efbbfd29255a",
   "metadata": {},
   "source": [
    "## Exercise 1"
   ]
  },
  {
   "cell_type": "markdown",
   "id": "3b9eaec1-57c6-4525-befe-55b19f57a91c",
   "metadata": {},
   "source": [
    "For the following text:\n",
    "\n",
    "Needed a nice lamp for my bedroom, and this one had \\\n",
    "additional storage and not too high of a price point. \\\n",
    "Got it fast.  The string to our lamp broke during the \\\n",
    "transit and the company happily sent over a new one. \\\n",
    "Came within a few days as well. It was easy to put \\\n",
    "together.  I had a missing part, so I contacted their \\\n",
    "support and they very quickly got me the missing piece! \\\n",
    "Lumina seems to me to be a great company that cares \\\n",
    "about their customers and products!!\n",
    "\n",
    "Validate if this author of this text is happy or not (answer in a single word: Positive/Negative)\n"
   ]
  },
  {
   "cell_type": "markdown",
   "id": "a9160b93-3088-4612-8593-99dc470fd456",
   "metadata": {},
   "source": [
    "## Exercise 2"
   ]
  },
  {
   "cell_type": "code",
   "execution_count": 5,
   "id": "db1a710e-8d82-4e36-9cdb-75a1c119524b",
   "metadata": {},
   "outputs": [
    {
     "name": "stdout",
     "output_type": "stream",
     "text": [
      "YES\n"
     ]
    }
   ],
   "source": [
    "prompt = f\"\"\"Part of Taki is trying to get a as many cards as you can. Yes or No?\"\"\"\n",
    "\n",
    "print(get_completion(prompt))"
   ]
  },
  {
   "cell_type": "code",
   "execution_count": null,
   "id": "e757842f-2501-4b5f-bedf-dac6dbf32a04",
   "metadata": {},
   "outputs": [],
   "source": []
  }
 ],
 "metadata": {
  "kernelspec": {
   "display_name": "Python 3 (ipykernel)",
   "language": "python",
   "name": "python3"
  },
  "language_info": {
   "codemirror_mode": {
    "name": "ipython",
    "version": 3
   },
   "file_extension": ".py",
   "mimetype": "text/x-python",
   "name": "python",
   "nbconvert_exporter": "python",
   "pygments_lexer": "ipython3",
   "version": "3.11.0"
  }
 },
 "nbformat": 4,
 "nbformat_minor": 5
}
