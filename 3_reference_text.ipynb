{
 "cells": [
  {
   "cell_type": "code",
   "id": "8bc7027b-cfb1-44e0-9e40-a0ffda6007b3",
   "metadata": {},
   "source": [
    "import google.generativeai as genai\n",
    "\n",
    "genai.configure(api_key=\"<your key>\")\n",
    "\n",
    "\n",
    "def get_completion(prompt, system_instruction=\"You are a user.\"):\n",
    "    \"\"\"\n",
    "    Get the completion for a given prompt using the specified model.\n",
    "    Returns the answer with the highest score.\n",
    "    \"\"\"\n",
    "    model = genai.GenerativeModel(\n",
    "            \"models/gemini-1.5-pro\",\n",
    "            system_instruction=system_instruction,\n",
    "        )\n",
    "    response = model.generate_content(prompt)\n",
    "    return response.text\n"
   ],
   "outputs": [],
   "execution_count": null
  },
  {
   "cell_type": "markdown",
   "id": "c9ef589e-7ffe-4503-a1f0-689715bbbd16",
   "metadata": {},
   "source": [
    "# Strategy: Provide reference text"
   ]
  },
  {
   "cell_type": "markdown",
   "id": "b926d470-be7e-43b7-a9c9-50919d04c18d",
   "metadata": {},
   "source": [
    "## Tactic: Instruct the model to answer using a reference text"
   ]
  },
  {
   "cell_type": "markdown",
   "id": "e2bc7e55-787d-44ca-b1ad-488e5844d05a",
   "metadata": {},
   "source": [
    "If we give the model trusted information related to the current query, we can instruct it to use that information to create its answer."
   ]
  },
  {
   "cell_type": "code",
   "id": "96ddb097-c53d-4b9a-8a81-008fb85786bc",
   "metadata": {},
   "source": [
    "prompt = f\"\"\"Use the provided information in the link: \n",
    "https://en.wikipedia.org/wiki/List_of_2022_Winter_Olympics_medal_winners to answer questions. \n",
    "Question: Who won the gold medal in men's curling at the 2022 Winter Olympics?\"\"\"\n",
    "\n",
    "print(get_completion(prompt))"
   ],
   "outputs": [],
   "execution_count": null
  },
  {
   "cell_type": "markdown",
   "id": "f35fef62-300b-4e20-a585-c81ff2b55890",
   "metadata": {},
   "source": [
    "## Tactic: Instruct the model to answer with citations from a reference text"
   ]
  },
  {
   "cell_type": "markdown",
   "id": "3512293d-0b14-47b8-8899-71d0fdce0f50",
   "metadata": {},
   "source": [
    "If the input includes relevant knowledge, you can ask the model to add citations by referencing the provided documents. These citations can be verified by matching strings in the documents."
   ]
  },
  {
   "cell_type": "code",
   "id": "fa47924f-9f4d-4c7e-8323-e83ac125f973",
   "metadata": {},
   "source": [
    "text = f\"\"\"The rise of remote work has transformed the traditional office environment, allowing employees to work from virtually \n",
    "anywhere in the world. This shift has led to increased flexibility and autonomy for workers, but it has also introduced \n",
    "new challenges such as maintaining work-life balance and ensuring effective communication within teams. \n",
    "As companies continue to adapt to this new way of working, they must find innovative solutions to support their \n",
    "employees and maintain productivity.\"\"\"\n",
    "\n",
    "system_msg = f\"\"\"\n",
    "You will be provided with a text delimited by triple single quotes and a question. \n",
    "Your task is to answer the question using only the provided document and to cite the passage(s) of the document used \n",
    "to answer the question. If the document does not contain the information needed to answer this question then \n",
    "simply write: \"Insufficient information.\" If an answer to the question is provided, \n",
    "it must be annotated with a citation. \n",
    "\"\"\"\n",
    "\n",
    "prompt = f\"\"\"\n",
    "Question: Is one of the new problems introduced how to maintain work-life balance?\n",
    "Text: \n",
    "'''{text}'''\"\"\"\n",
    "\n",
    "print(get_completion(prompt, system_msg))"
   ],
   "outputs": [],
   "execution_count": null
  },
  {
   "cell_type": "markdown",
   "id": "3274ca00-cd6d-485c-a666-661be427c5e9",
   "metadata": {},
   "source": [
    "### Here is an example for Insufficient information"
   ]
  },
  {
   "cell_type": "code",
   "id": "51f91e72-aab8-4df6-9914-3c398fdbbfb8",
   "metadata": {},
   "source": [
    "text = f\"\"\"he rise of remote work has transformed the traditional office environment, allowing employees to work from virtually \n",
    "anywhere in the world. This shift has led to increased flexibility and autonomy for workers, but it has also introduced \n",
    "new challenges such as maintaining work-life balance and ensuring effective communication within teams. \n",
    "As companies continue to adapt to this new way of working, they must find innovative solutions to support their \n",
    "employees and maintain productivity.\"\"\"\n",
    "\n",
    "system_msg = f\"\"\"\n",
    "You will be provided with a text delimited by triple single quotes and a question. \n",
    "Your task is to answer the question using only the provided document and to cite the passage(s) of the document used \n",
    "to answer the question. If the document does not contain the information needed to answer this question then \n",
    "simply write: \"Insufficient information.\" If an answer to the question is provided, \n",
    "it must be annotated with a citation.  \n",
    "\"\"\"\n",
    "\n",
    "prompt = f\"\"\"\n",
    "Question: How many companies adapting the new way of working?\n",
    "Text: \n",
    "'''{text}'''\"\"\"\n",
    "\n",
    "print(get_completion(prompt, system_msg))"
   ],
   "outputs": [],
   "execution_count": null
  },
  {
   "metadata": {},
   "cell_type": "markdown",
   "source": "# Exercise",
   "id": "7a73d8cde70a6715"
  },
  {
   "metadata": {},
   "cell_type": "markdown",
   "source": [
    "For the following text:\n",
    "Needed a nice lamp for my bedroom, and this one had \n",
    "additional storage and not too high of a price point. \n",
    "Got it fast.  The string to our lamp broke during the \n",
    "transit and the company happily sent over a new one. \n",
    "Came within a few days as well. It was easy to put \n",
    "together.  I had a missing part, so I contacted their \n",
    "support and they very quickly got me the missing piece! \n",
    "Lumina seems to me to be a great company that cares \n",
    "about their customers and products!!\n",
    "\n",
    "Validate if this author of this text is happy or not (answer in a single word: Positive/Negative)"
   ],
   "id": "b0aa7e93c46a31c1"
  },
  {
   "metadata": {},
   "cell_type": "code",
   "source": "",
   "id": "17a6468855f7601f",
   "outputs": [],
   "execution_count": null
  }
 ],
 "metadata": {
  "kernelspec": {
   "display_name": "Python 3 (ipykernel)",
   "language": "python",
   "name": "python3"
  },
  "language_info": {
   "codemirror_mode": {
    "name": "ipython",
    "version": 3
   },
   "file_extension": ".py",
   "mimetype": "text/x-python",
   "name": "python",
   "nbconvert_exporter": "python",
   "pygments_lexer": "ipython3",
   "version": "3.11.0"
  }
 },
 "nbformat": 4,
 "nbformat_minor": 5
}
