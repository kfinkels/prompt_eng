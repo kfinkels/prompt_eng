{
 "cells": [
  {
   "cell_type": "code",
   "id": "1dbb047e-b62f-48ee-8ba7-de52945360d1",
   "metadata": {
    "ExecuteTime": {
     "end_time": "2024-12-07T10:24:07.423788Z",
     "start_time": "2024-12-07T10:24:07.410964Z"
    }
   },
   "source": [
    "import google.generativeai as genai\n",
    "\n",
    "genai.configure(api_key=\"<your key>\")\n",
    "\n",
    "\n",
    "def get_completion(prompt):\n",
    "    \"\"\"\n",
    "    Get the completion for a given prompt using the specified model.\n",
    "    Returns the answer with the highest score.\n",
    "    \"\"\"\n",
    "    model = genai.GenerativeModel(\n",
    "            \"models/gemini-1.5-flash\",\n",
    "            system_instruction=\"You are a user.\",\n",
    "        )\n",
    "    response = model.generate_content(prompt)\n",
    "    return response.text\n"
   ],
   "outputs": [],
   "execution_count": 15
  },
  {
   "cell_type": "markdown",
   "id": "80f52131-fde3-4e09-b53e-e31ffc0ca995",
   "metadata": {},
   "source": [
    "# Strategy: “Chain-of-Thought Prompting” (CoT)"
   ]
  },
  {
   "cell_type": "markdown",
   "id": "2225c34c-725f-4231-b209-f7e52a54ecc9",
   "metadata": {},
   "source": [
    "Guiding the model through a step-by-step reasoning process. Instead of prompting the model to directly provide an answer\n",
    "\n",
    "Give the model \"time to think\""
   ]
  },
  {
   "cell_type": "markdown",
   "id": "c91bfe8b-ae06-4469-9bb2-5238cda8f849",
   "metadata": {},
   "source": [
    "## Tactic: Specify the steps required to complete a task"
   ]
  },
  {
   "cell_type": "code",
   "id": "eb27e623-d5a6-46a3-8801-c26f8ffb4f65",
   "metadata": {
    "ExecuteTime": {
     "end_time": "2024-12-07T10:23:03.116447Z",
     "start_time": "2024-12-07T10:22:59.392447Z"
    }
   },
   "source": [
    "text = f\"\"\"\n",
    "In a charming village, siblings Jack and Jill set out on \n",
    "a quest to fetch water from a hilltop \n",
    "well. As they climbed, singing joyfully, misfortune \n",
    "struck—Jack tripped on a stone and tumbled \n",
    "down the hill, with Jill following suit. \n",
    "Though slightly battered, the pair returned home to \n",
    "comforting embraces. Despite the mishap, \n",
    "their adventurous spirits remained undimmed, and they \n",
    "continued exploring with delight.\n",
    "\"\"\"\n",
    "\n",
    "# example 1\n",
    "prompt = f\"\"\"\n",
    "Perform the following actions: \n",
    "1 - Summarize the following text delimited by triple\n",
    "backticks with 1 sentence.\n",
    "2 - Translate the summary into French.\n",
    "3 - List each name in the French summary.\n",
    "4 - Output a json object that contains the following\n",
    "keys: french_summary, num_names.\n",
    "\n",
    "Separate your answers with line breaks.\n",
    "\n",
    "Text:\n",
    "```{text}```\n",
    "\"\"\"\n",
    "\n",
    "print(get_completion(prompt))"
   ],
   "outputs": [
    {
     "name": "stdout",
     "output_type": "stream",
     "text": [
      "Jack and Jill went up a hill to fetch water but unfortunately tumbled down.\n",
      "\n",
      "Jack et Jill sont montés sur une colline pour aller chercher de l'eau, mais malheureusement, ils sont tombés.\n",
      "\n",
      "Jack, Jill\n",
      "\n",
      "```json\n",
      "{\n",
      "  \"french_summary\": \"Jack et Jill sont montés sur une colline pour aller chercher de l'eau, mais malheureusement, ils sont tombés.\",\n",
      "  \"num_names\": 2\n",
      "}\n",
      "```\n",
      "\n"
     ]
    }
   ],
   "execution_count": 12
  },
  {
   "cell_type": "markdown",
   "id": "85e97aa0-bf40-42db-bdaf-a68490e5a50c",
   "metadata": {},
   "source": [
    "## Tactic: Ask for output in a specified format"
   ]
  },
  {
   "cell_type": "code",
   "id": "7d34417f-a558-4c72-8a37-14a2ab4e660b",
   "metadata": {
    "ExecuteTime": {
     "end_time": "2024-12-07T10:23:18.703279Z",
     "start_time": "2024-12-07T10:23:13.937377Z"
    }
   },
   "source": [
    "prompt = f\"\"\"\n",
    "Your task is to perform the following actions: \n",
    "1 - Summarize the following text delimited by \n",
    "  <> with 1 sentence.\n",
    "2 - Translate the summary into French.\n",
    "3 - List each name in the French summary.\n",
    "4 - Output a json object that contains the \n",
    "  following keys: french_summary, num_names.\n",
    "\n",
    "Use the following format:\n",
    "Text: <text to summarize>\n",
    "Summary: <summary>\n",
    "Translation: <summary translation>\n",
    "Names: <list of names in summary>\n",
    "Output JSON: <json with summary and num_names>\n",
    "\n",
    "Text: <{text}>\n",
    "\"\"\"\n",
    "\n",
    "print(get_completion(prompt))"
   ],
   "outputs": [
    {
     "name": "stdout",
     "output_type": "stream",
     "text": [
      "Text: <\n",
      "In a charming village, siblings Jack and Jill set out on \n",
      "a quest to fetch water from a hilltop \n",
      "well. As they climbed, singing joyfully, misfortune \n",
      "struck—Jack tripped on a stone and tumbled \n",
      "down the hill, with Jill following suit. \n",
      "Though slightly battered, the pair returned home to \n",
      "comforting embraces. Despite the mishap, \n",
      "their adventurous spirits remained undimmed, and they \n",
      "continued exploring with delight.\n",
      ">\n",
      "Summary: Jack and Jill went up a hill to fetch water but unfortunately tumbled down.\n",
      "Translation: Jack et Jill sont montés sur une colline pour chercher de l'eau, mais malheureusement, ils sont tombés.\n",
      "Names: Jack, Jill\n",
      "Output JSON: {\"french_summary\": \"Jack et Jill sont montés sur une colline pour chercher de l'eau, mais malheureusement, ils sont tombés.\", \"num_names\": 2}\n",
      "\n"
     ]
    }
   ],
   "execution_count": 13
  },
  {
   "cell_type": "markdown",
   "id": "4c00b9f9-2e10-4a9d-a48f-93cde25ad815",
   "metadata": {},
   "source": [
    "## Tactic: Instruct the model to work out its own solution before rushing to a conclusion"
   ]
  },
  {
   "cell_type": "code",
   "id": "3b08714a-c05c-46c5-9e84-33e5f4c977bf",
   "metadata": {
    "ExecuteTime": {
     "end_time": "2024-12-07T10:24:19.046338Z",
     "start_time": "2024-12-07T10:24:15.802273Z"
    }
   },
   "source": [
    "prompt = f\"\"\"\n",
    "Determine if the student's solution is correct or not.\n",
    "\n",
    "Question:\n",
    "A bakery sells two types of pastries: croissants and muffins. \n",
    "Croissants cost $3 each, and muffins cost $2 each. \n",
    "Yesterday, the bakery sold a total of 50 pastries and made $130 in revenue. \n",
    "How many croissants and muffins did the bakery sell?\n",
    "\n",
    "Student's Solution:\n",
    "Let x be the number of croissants the baker sold, and y be the number of muffins he sold.\n",
    "than x+y=50\n",
    "3x+2y=130\n",
    "So, the bakery sold 20 croissants and 30 muffins\n",
    "\"\"\"\n",
    "\n",
    "print(get_completion(prompt))"
   ],
   "outputs": [
    {
     "name": "stdout",
     "output_type": "stream",
     "text": [
      "The student's solution is correct.  Let's check:\n",
      "\n",
      "* **Equation 1:** x + y = 50 (Total pastries)\n",
      "* **Equation 2:** 3x + 2y = 130 (Total revenue)\n",
      "\n",
      "If x = 20 (croissants) and y = 30 (muffins):\n",
      "\n",
      "* Equation 1: 20 + 30 = 50 (Correct)\n",
      "* Equation 2: (3 * 20) + (2 * 30) = 60 + 60 = 120 (Incorrect)\n",
      "\n",
      "There's a small arithmetic error in the student's revenue calculation. While the setup of the equations is correct, the solution (20 croissants, 30 muffins) does not satisfy the revenue equation.  Therefore, the **student's solution is incorrect**, even though the approach is right.  They need to solve the system of equations properly to find the correct number of croissants and muffins.\n",
      "\n"
     ]
    }
   ],
   "execution_count": 16
  },
  {
   "cell_type": "markdown",
   "id": "6f3d464c-8210-4252-a06f-56549117d71c",
   "metadata": {},
   "source": [
    "***Note that the student's solution is actually not correct.***\n",
    "\n",
    "***We can fix this by instructing the model to work out its own solution first.***"
   ]
  },
  {
   "cell_type": "code",
   "id": "5b8530eb-e213-4432-a314-d8e7c4899238",
   "metadata": {
    "ExecuteTime": {
     "end_time": "2024-12-07T10:24:43.894101Z",
     "start_time": "2024-12-07T10:24:41.482424Z"
    }
   },
   "source": [
    "prompt = f\"\"\"\n",
    "Your task is to determine if the student's solution \n",
    "is correct or not.\n",
    "To solve the problem do the following:\n",
    "- First, work out your own solution to the problem including the final total. \n",
    "- Then compare your solution to the student's solution \n",
    "and evaluate if the student's solution is correct or not. \n",
    "Don't decide if the student's solution is correct until \n",
    "you have done the problem yourself.\n",
    "\n",
    "Use the following format:\n",
    "Question:\n",
    "```\n",
    "question here\n",
    "```\n",
    "Student's solution:\n",
    "```\n",
    "student's solution here\n",
    "```\n",
    "Actual solution:\n",
    "```\n",
    "steps to work out the solution and your solution here\n",
    "```\n",
    "Is the student's solution the same as actual solution \n",
    "just calculated:\n",
    "```\n",
    "yes or no\n",
    "```\n",
    "Student grade:\n",
    "```\n",
    "correct or incorrect\n",
    "```\n",
    "\n",
    "Question:\n",
    "```\n",
    "A bakery sells two types of pastries: croissants and muffins. \n",
    "Croissants cost $3 each, and muffins cost $2 each. \n",
    "Yesterday, the bakery sold a total of 50 pastries and made $130 in revenue. \n",
    "How many croissants and muffins did the bakery sell?\n",
    "``` \n",
    "Student's solution:\n",
    "```\n",
    "Let x be the number of croissants the baker sold, and y be the number of muffins he sold.\n",
    "than x+y=50\n",
    "3x+2y=130\n",
    "So, the bakery sold 20 croissants and 30 muffins\n",
    "```\n",
    "Actual solution:\n",
    "\"\"\"\n",
    "\n",
    "print(get_completion(prompt))"
   ],
   "outputs": [
    {
     "name": "stdout",
     "output_type": "stream",
     "text": [
      "Actual solution:\n",
      "```\n",
      "Let x be the number of croissants and y be the number of muffins.\n",
      "We can set up a system of two equations based on the given information:\n",
      "x + y = 50  (total number of pastries)\n",
      "3x + 2y = 130 (total revenue)\n",
      "\n",
      "We can solve this system of equations using substitution or elimination. Let's use elimination:\n",
      "Multiply the first equation by -2:\n",
      "-2x - 2y = -100\n",
      "Add this to the second equation:\n",
      "3x + 2y = 130\n",
      "-2x - 2y = -100\n",
      "----------------\n",
      "x = 30\n",
      "\n",
      "Now substitute x = 30 into the first equation:\n",
      "30 + y = 50\n",
      "y = 50 - 30\n",
      "y = 20\n",
      "\n",
      "Therefore, the bakery sold 30 croissants and 20 muffins.\n",
      "```\n",
      "Is the student's solution the same as actual solution just calculated:\n",
      "```\n",
      "no\n",
      "```\n",
      "Student grade:\n",
      "```\n",
      "incorrect\n",
      "```\n",
      "\n"
     ]
    }
   ],
   "execution_count": 17
  },
  {
   "cell_type": "markdown",
   "id": "9b6c1aca-0718-4022-95e8-b1ff673740a7",
   "metadata": {},
   "source": [
    "# Strategy: Avoid Model Hallucinations\n",
    "- Boie is a real company, the product name is not real."
   ]
  },
  {
   "cell_type": "code",
   "id": "4918a319-0cbd-4fd0-b37d-d7280d12ab06",
   "metadata": {
    "ExecuteTime": {
     "end_time": "2024-12-07T10:25:15.119446Z",
     "start_time": "2024-12-07T10:25:10.987896Z"
    }
   },
   "source": [
    "prompt = f\"\"\"\n",
    "Tell me about AeroGlide UltraSlim Smart Toothbrush by Boie\n",
    "\"\"\"\n",
    "\n",
    "print(get_completion(prompt))"
   ],
   "outputs": [
    {
     "name": "stdout",
     "output_type": "stream",
     "text": [
      "The Boie AeroGlide UltraSlim Smart Toothbrush is a relatively new entrant in the electric toothbrush market, distinguishing itself primarily through its design and sustainability focus.  Information available online suggests the following key features:\n",
      "\n",
      "* **Ultra-slim design:** As the name implies, it's designed to be exceptionally thin and lightweight, making it more comfortable to hold and maneuver in the mouth, especially for those with smaller mouths or sensitive gums.\n",
      "\n",
      "* **Smart features (limited):**  While marketed as \"smart,\" its smart features are less extensive than high-end smart toothbrushes.  It likely refers to features such as a built-in timer to ensure you brush for the recommended two minutes.  It may lack features like pressure sensors, app connectivity, or multiple brushing modes found in more sophisticated models.\n",
      "\n",
      "* **Replaceable brush head:**  This is a crucial aspect for sustainability. Instead of discarding the entire toothbrush, users replace only the brush head, reducing waste.  Boie emphasizes the use of recyclable and sustainably sourced materials.\n",
      "\n",
      "* **Rechargeable:** The toothbrush is rechargeable via a USB port, eliminating the need for disposable batteries.\n",
      "\n",
      "* **Focus on sustainability:** Boie actively promotes its commitment to eco-friendly practices throughout its product lifecycle. This includes using recycled and recyclable materials and minimizing packaging.\n",
      "\n",
      "**However, what's missing from readily available online information (and therefore may need further investigation):**\n",
      "\n",
      "* **Brushing power and effectiveness:**  Independent reviews on the cleaning power compared to other electric toothbrushes are generally lacking.  While the design is appealing, its ability to effectively remove plaque and improve gum health needs more in-depth scrutiny.\n",
      "* **Battery life:** The length of time the battery lasts on a single charge is usually not explicitly stated.\n",
      "* **Price:** The price point relative to competitors is not consistently clear across different retailers.\n",
      "\n",
      "\n",
      "In short, the Boie AeroGlide UltraSlim Smart Toothbrush seems to appeal to users prioritizing a slim, comfortable design and sustainable practices.  However, prospective buyers should research more detailed reviews and specifications to determine if its cleaning power and features meet their expectations, particularly concerning its \"smart\" capabilities which appear to be more limited than in competing products.\n",
      "\n"
     ]
    }
   ],
   "execution_count": 18
  },
  {
   "cell_type": "markdown",
   "id": "df91019b-29a3-48bc-ad22-c9d7b6a1b79d",
   "metadata": {},
   "source": "## Tactic: Give the model option to say it doesn't know the answer to a question\t\t\t"
  },
  {
   "cell_type": "code",
   "id": "133e6d59-a600-4e58-8b38-72d2cc810251",
   "metadata": {
    "ExecuteTime": {
     "end_time": "2024-12-07T10:29:50.660420Z",
     "start_time": "2024-12-07T10:29:48.470048Z"
    }
   },
   "source": [
    "prompt = f\"\"\"\n",
    "Tell me about AeroGlide UltraSlim Smart Toothbrush by Boie. Only answer if you know the answer with certainty.\n",
    "\"\"\"\n",
    "\n",
    "print(get_completion(prompt))"
   ],
   "outputs": [
    {
     "name": "stdout",
     "output_type": "stream",
     "text": [
      "I do not have access to real-time information, including specific product details like those for the AeroGlide UltraSlim Smart Toothbrush by Boie.  My knowledge is based on the data I was trained on, which is not a live, updated product catalog.  To get accurate information on this toothbrush, you should check the Boie website or a reputable retailer that sells their products.\n",
      "\n"
     ]
    }
   ],
   "execution_count": 19
  },
  {
   "metadata": {},
   "cell_type": "markdown",
   "source": "",
   "id": "b6008eda8b6674d3"
  },
  {
   "metadata": {},
   "cell_type": "markdown",
   "source": "## Tactic: Ask the model to find evidence before answering\t\t\t\t\t\t",
   "id": "db6226e999f04321"
  },
  {
   "metadata": {
    "ExecuteTime": {
     "end_time": "2024-12-09T15:10:26.125457Z",
     "start_time": "2024-12-09T15:10:23.746780Z"
    }
   },
   "cell_type": "code",
   "source": [
    "prompt = f\"\"\"\n",
    "Tell me about AeroGlide UltraSlim Smart Toothbrush by Boie. Find evidence before answering in https://boieusa.com.  \n",
    "\"\"\"\n",
    "\n",
    "print(get_completion(prompt))"
   ],
   "id": "84aef52a349b08bc",
   "outputs": [
    {
     "name": "stdout",
     "output_type": "stream",
     "text": [
      "Based on the provided link (boieusa.com), I cannot find a toothbrush called \"AeroGlide UltraSlim Smart Toothbrush\"  in Boie's product line.  Their website showcases several toothbrush models, but none match that specific name.  Therefore, I cannot provide information about it.\n",
      "\n"
     ]
    }
   ],
   "execution_count": 77
  },
  {
   "metadata": {},
   "cell_type": "code",
   "outputs": [],
   "execution_count": null,
   "source": "",
   "id": "bdbe07e9a0f893ff"
  }
 ],
 "metadata": {
  "kernelspec": {
   "display_name": "Python 3 (ipykernel)",
   "language": "python",
   "name": "python3"
  },
  "language_info": {
   "codemirror_mode": {
    "name": "ipython",
    "version": 3
   },
   "file_extension": ".py",
   "mimetype": "text/x-python",
   "name": "python",
   "nbconvert_exporter": "python",
   "pygments_lexer": "ipython3",
   "version": "3.11.0"
  }
 },
 "nbformat": 4,
 "nbformat_minor": 5
}
