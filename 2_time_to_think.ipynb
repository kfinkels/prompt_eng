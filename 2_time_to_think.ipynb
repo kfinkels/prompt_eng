{
 "cells": [
  {
   "cell_type": "code",
   "execution_count": 1,
   "id": "1dbb047e-b62f-48ee-8ba7-de52945360d1",
   "metadata": {},
   "outputs": [],
   "source": [
    "import ollama\n",
    "\n",
    "\n",
    "def get_completion(prompt, model='llama3'):\n",
    "    \"\"\"\n",
    "    Get the completion for a given prompt using the specified model.\n",
    "    Returns the answer with the highest score.\n",
    "    \"\"\"\n",
    "    response = ollama.chat(model=model, messages=[{\n",
    "        'role': 'user',\n",
    "        'content': prompt,\n",
    "      }])\n",
    "    return response['message']['content']"
   ]
  },
  {
   "cell_type": "markdown",
   "id": "80f52131-fde3-4e09-b53e-e31ffc0ca995",
   "metadata": {},
   "source": [
    "# Strategy: “Chain-of-Thought Prompting” (CoT)"
   ]
  },
  {
   "cell_type": "markdown",
   "id": "2225c34c-725f-4231-b209-f7e52a54ecc9",
   "metadata": {},
   "source": [
    "Guiding the model through a step-by-step reasoning process. Instead of prompting the model to directly provide an answer\n",
    "\n",
    "Give the model \"time to think\""
   ]
  },
  {
   "cell_type": "markdown",
   "id": "c91bfe8b-ae06-4469-9bb2-5238cda8f849",
   "metadata": {},
   "source": [
    "## Tactic: Specify the steps required to complete a task"
   ]
  },
  {
   "cell_type": "code",
   "execution_count": 2,
   "id": "eb27e623-d5a6-46a3-8801-c26f8ffb4f65",
   "metadata": {},
   "outputs": [
    {
     "name": "stdout",
     "output_type": "stream",
     "text": [
      "**Summary:**\n",
      "Jack and Jill go on a quest to fetch water from a hilltop well but end up tripping and falling down the hill, only to return home with their spirits still enthusiastic.\n",
      "\n",
      "**French Summary:**\n",
      "Les frères Jack et Jill partent à la quête pour aller chercher de l'eau dans un puits en haut d'une colline mais finissent par tomber et se relever, leur enthousiasme toujours intact.\n",
      "\n",
      "**List of Names:**\n",
      "\n",
      "1. Jack\n",
      "2. Jill\n",
      "\n",
      "**JSON Output:**\n",
      "{\n",
      "\"french_summary\": \"Les frères Jack et Jill partent à la quête pour aller chercher de l'eau dans un puits en haut d'une colline mais finissent par tomber et se relever, leur enthousiasme toujours intact.\",\n",
      "\"num_names\": 2\n",
      "}\n"
     ]
    }
   ],
   "source": [
    "text = f\"\"\"\n",
    "In a charming village, siblings Jack and Jill set out on \n",
    "a quest to fetch water from a hilltop \n",
    "well. As they climbed, singing joyfully, misfortune \n",
    "struck—Jack tripped on a stone and tumbled \n",
    "down the hill, with Jill following suit. \n",
    "Though slightly battered, the pair returned home to \n",
    "comforting embraces. Despite the mishap, \n",
    "their adventurous spirits remained undimmed, and they \n",
    "continued exploring with delight.\n",
    "\"\"\"\n",
    "\n",
    "# example 1\n",
    "prompt = f\"\"\"\n",
    "Perform the following actions: \n",
    "1 - Summarize the following text delimited by triple\n",
    "backticks with 1 sentence.\n",
    "2 - Translate the summary into French.\n",
    "3 - List each name in the French summary.\n",
    "4 - Output a json object that contains the following\n",
    "keys: french_summary, num_names.\n",
    "\n",
    "Separate your answers with line breaks.\n",
    "\n",
    "Text:\n",
    "```{text}```\n",
    "\"\"\"\n",
    "\n",
    "print(get_completion(prompt))"
   ]
  },
  {
   "cell_type": "markdown",
   "id": "85e97aa0-bf40-42db-bdaf-a68490e5a50c",
   "metadata": {},
   "source": [
    "## Tactic: Ask for output in a specified format"
   ]
  },
  {
   "cell_type": "code",
   "execution_count": 3,
   "id": "7d34417f-a558-4c72-8a37-14a2ab4e660b",
   "metadata": {},
   "outputs": [
    {
     "name": "stdout",
     "output_type": "stream",
     "text": [
      "Here are the requested outputs:\n",
      "\n",
      "**Text**: <\n",
      "In a charming village, siblings Jack and Jill set out on \n",
      "a quest to fetch water from a hilltop \n",
      "well. As they climbed, singing joyfully, misfortune \n",
      "struck—Jack tripped on a stone and tumbled \n",
      "down the hill, with Jill following suit. \n",
      "Though slightly battered, the pair returned home to \n",
      "comforting embraces. Despite the mishap, \n",
      "their adventurous spirits remained undimmed, and they \n",
      "continued exploring with delight.\n",
      ">\n",
      "\n",
      "**Summary**: Jack and Jill go on a quest to fetch water from a well but face misfortune along the way.\n",
      "\n",
      "**Translation**: Les frères Jack et Jill partent à la quête pour récupérer de l'eau d'un puits, mais rencontrent des malheurs sur leur chemin.\n",
      "\n",
      "**Names**: [\"Jack\", \"Jill\"]\n",
      "\n",
      "**Output JSON**:\n",
      "```\n",
      "{\n",
      "  \"french_summary\": \"Les frères Jack et Jill partent à la quête pour récupérer de l'eau d'un puits, mais rencontrent des malheurs sur leur chemin.\",\n",
      "  \"num_names\": 2\n",
      "}\n",
      "```\n"
     ]
    }
   ],
   "source": [
    "prompt = f\"\"\"\n",
    "Your task is to perform the following actions: \n",
    "1 - Summarize the following text delimited by \n",
    "  <> with 1 sentence.\n",
    "2 - Translate the summary into French.\n",
    "3 - List each name in the French summary.\n",
    "4 - Output a json object that contains the \n",
    "  following keys: french_summary, num_names.\n",
    "\n",
    "Use the following format:\n",
    "Text: <text to summarize>\n",
    "Summary: <summary>\n",
    "Translation: <summary translation>\n",
    "Names: <list of names in summary>\n",
    "Output JSON: <json with summary and num_names>\n",
    "\n",
    "Text: <{text}>\n",
    "\"\"\"\n",
    "\n",
    "print(get_completion(prompt))"
   ]
  },
  {
   "cell_type": "markdown",
   "id": "4c00b9f9-2e10-4a9d-a48f-93cde25ad815",
   "metadata": {},
   "source": [
    "## Tactic: Instruct the model to work out its own solution before rushing to a conclusion"
   ]
  },
  {
   "cell_type": "code",
   "execution_count": 4,
   "id": "3b08714a-c05c-46c5-9e84-33e5f4c977bf",
   "metadata": {},
   "outputs": [
    {
     "name": "stdout",
     "output_type": "stream",
     "text": [
      "A nice linear algebra problem!\n",
      "\n",
      "Let's check if the student's solution is correct:\n",
      "\n",
      "We are given two equations:\n",
      "\n",
      "1) x + y = 50 ... (equation 1)\n",
      "2) 3x + 2y = 130 ... (equation 2)\n",
      "\n",
      "The student claims that the bakery sold 20 croissants and 30 muffins, which means x = 20 and y = 30.\n",
      "\n",
      "Substituting these values into equation 1, we get:\n",
      "\n",
      "20 + 30 = 50\n",
      "50 = 50\n",
      "\n",
      "This checks out! The sum of the number of croissants and muffins sold is indeed 50.\n",
      "\n",
      "Now, let's substitute x = 20 and y = 30 into equation 2:\n",
      "\n",
      "3(20) + 2(30) = 60 + 60 = 120\n",
      "\n",
      "Whoops! This doesn't equal 130. The student's solution is incorrect.\n",
      "\n",
      "The correct solution would involve solving the system of equations using linear algebra techniques, such as substitution or elimination.\n"
     ]
    }
   ],
   "source": [
    "prompt = f\"\"\"\n",
    "Determine if the student's solution is correct or not.\n",
    "\n",
    "Question:\n",
    "A bakery sells two types of pastries: croissants and muffins. \n",
    "Croissants cost $3 each, and muffins cost $2 each. \n",
    "Yesterday, the bakery sold a total of 50 pastries and made $130 in revenue. \n",
    "How many croissants and muffins did the bakery sell?\n",
    "\n",
    "Student's Solution:\n",
    "Let x be the number of croissants the baker sold, and y be the number of muffins he sold.\n",
    "than x+y=50\n",
    "3x+2y=130\n",
    "So, the bakery sold 20 croissants and 30 muffins\n",
    "\"\"\"\n",
    "\n",
    "print(get_completion(prompt))"
   ]
  },
  {
   "cell_type": "markdown",
   "id": "6f3d464c-8210-4252-a06f-56549117d71c",
   "metadata": {},
   "source": [
    "***Note that the student's solution is actually not correct.***\n",
    "\n",
    "***We can fix this by instructing the model to work out its own solution first.***"
   ]
  },
  {
   "cell_type": "code",
   "execution_count": 5,
   "id": "5b8530eb-e213-4432-a314-d8e7c4899238",
   "metadata": {},
   "outputs": [
    {
     "name": "stdout",
     "output_type": "stream",
     "text": [
      "Here's my attempt to solve the problem:\n",
      "\n",
      "Question:\n",
      "A bakery sells two types of pastries: croissants and muffins. Croissants cost $3 each, and muffins cost $2 each. Yesterday, the bakery sold a total of 50 pastries and made $130 in revenue. How many croissants and muffins did the bakery sell?\n",
      "\n",
      "Student's solution:\n",
      "Let x be the number of croissants the baker sold, and y be the number of muffins he sold.\n",
      "than x+y=50\n",
      "3x+2y=130\n",
      "So, the bakery sold 20 croissants and 30 muffins\n",
      "\n",
      "Actual solution:\n",
      "Let's start by using the information that the total number of pastries sold is 50. We can write an equation to represent this:\n",
      "\n",
      "x + y = 50 ... (Equation 1)\n",
      "\n",
      "We're also given that the revenue made from selling these pastries is $130. The revenue from each type of pastry is the cost per item multiplied by the number of items sold, so we can set up another equation:\n",
      "\n",
      "3x + 2y = 130 ... (Equation 2)\n",
      "\n",
      "Now we have two equations and two variables. We can solve this system of equations using substitution or elimination. I'll use substitution.\n",
      "\n",
      "Rearranging Equation 1 to isolate y, we get:\n",
      "\n",
      "y = 50 - x\n",
      "\n",
      "Substituting this expression for y into Equation 2, we get:\n",
      "\n",
      "3x + 2(50 - x) = 130\n",
      "\n",
      "Expanding and simplifying, we get:\n",
      "\n",
      "3x + 100 - 2x = 130\n",
      "\n",
      "Combine like terms:\n",
      "\n",
      "x + 100 = 130\n",
      "\n",
      "Subtract 100 from both sides:\n",
      "\n",
      "x = 30\n",
      "\n",
      "Now that we have found x, we can find y by substituting x into the expression for y:\n",
      "\n",
      "y = 50 - x\n",
      "= 50 - 30\n",
      "= 20\n",
      "\n",
      "So, the bakery sold 30 croissants and 20 muffins.\n",
      "\n",
      "Is the student's solution the same as actual solution just calculated:\n",
      "no\n",
      "\n",
      "Student grade:\n",
      "incorrect\n"
     ]
    }
   ],
   "source": [
    "prompt = f\"\"\"\n",
    "Your task is to determine if the student's solution \n",
    "is correct or not.\n",
    "To solve the problem do the following:\n",
    "- First, work out your own solution to the problem including the final total. \n",
    "- Then compare your solution to the student's solution \n",
    "and evaluate if the student's solution is correct or not. \n",
    "Don't decide if the student's solution is correct until \n",
    "you have done the problem yourself.\n",
    "\n",
    "Use the following format:\n",
    "Question:\n",
    "```\n",
    "question here\n",
    "```\n",
    "Student's solution:\n",
    "```\n",
    "student's solution here\n",
    "```\n",
    "Actual solution:\n",
    "```\n",
    "steps to work out the solution and your solution here\n",
    "```\n",
    "Is the student's solution the same as actual solution \n",
    "just calculated:\n",
    "```\n",
    "yes or no\n",
    "```\n",
    "Student grade:\n",
    "```\n",
    "correct or incorrect\n",
    "```\n",
    "\n",
    "Question:\n",
    "```\n",
    "A bakery sells two types of pastries: croissants and muffins. \n",
    "Croissants cost $3 each, and muffins cost $2 each. \n",
    "Yesterday, the bakery sold a total of 50 pastries and made $130 in revenue. \n",
    "How many croissants and muffins did the bakery sell?\n",
    "``` \n",
    "Student's solution:\n",
    "```\n",
    "Let x be the number of croissants the baker sold, and y be the number of muffins he sold.\n",
    "than x+y=50\n",
    "3x+2y=130\n",
    "So, the bakery sold 20 croissants and 30 muffins\n",
    "```\n",
    "Actual solution:\n",
    "\"\"\"\n",
    "\n",
    "print(get_completion(prompt))"
   ]
  },
  {
   "cell_type": "markdown",
   "id": "9b6c1aca-0718-4022-95e8-b1ff673740a7",
   "metadata": {},
   "source": [
    "## Model Limitations: Hallucinations\n",
    "- Boie is a real company, the product name is not real."
   ]
  },
  {
   "cell_type": "code",
   "execution_count": 6,
   "id": "4918a319-0cbd-4fd0-b37d-d7280d12ab06",
   "metadata": {},
   "outputs": [
    {
     "name": "stdout",
     "output_type": "stream",
     "text": [
      "A great topic!\n",
      "\n",
      "The AeroGlide UltraSlim Smart Toothbrush is a innovative oral care product designed and manufactured by Boie, a company that specializes in creating high-quality, smart toothbrushes. Here are some key features and benefits:\n",
      "\n",
      "**Design and Ergonomics**: The UltraSlim toothbrush has a sleek and slim design, making it easy to maneuver around all areas of your mouth. Its ergonomic handle fits comfortably in your hand, allowing for effective cleaning and control.\n",
      "\n",
      "**Smart Technology**: This toothbrush is equipped with advanced sensors that track your brushing habits, providing real-time feedback on pressure, duration, and coverage. The Boie app (available for iOS and Android) connects to the toothbrush via Bluetooth, offering personalized coaching and insights to help you improve your oral care routine.\n",
      "\n",
      "**Cleaning Modes**: The AeroGlide UltraSlim offers multiple cleaning modes:\n",
      "\n",
      "1. **Whiten**: Gentle vibrations help remove plaque and surface stains.\n",
      "2. **Clean**: Standard mode with gentle oscillations for everyday cleaning.\n",
      "3. **Massage**: Softer bristles and slower movements to gently massage your gums.\n",
      "\n",
      "**Key Features**:\n",
      "\n",
      "* Advanced sonic technology (30,000 strokes per minute) for effective plaque removal\n",
      "* Soft Bristle Zone: Gentle on teeth and gums\n",
      "* Timed Brushing: 2-minute timer with reminders to switch sides and areas of the mouth\n",
      "* Personalized Coaching: Receive feedback and suggestions based on your brushing habits\n",
      "\n",
      "**Benefits**:\n",
      "\n",
      "1. **Improved Oral Health**: Regular use can lead to reduced plaque, gingivitis, and cavities.\n",
      "2. **Increased Efficiency**: The smart features help you clean more effectively in less time.\n",
      "3. **Personalization**: Get customized guidance and insights to optimize your oral care routine.\n",
      "\n",
      "Overall, the AeroGlide UltraSlim Smart Toothbrush is an innovative product that offers a unique combination of smart technology, advanced cleaning modes, and personalized coaching to help you achieve better oral health and confidence in your smile!\n"
     ]
    }
   ],
   "source": [
    "prompt = f\"\"\"\n",
    "Tell me about AeroGlide UltraSlim Smart Toothbrush by Boie\n",
    "\"\"\"\n",
    "\n",
    "print(get_completion(prompt))"
   ]
  },
  {
   "cell_type": "markdown",
   "id": "df91019b-29a3-48bc-ad22-c9d7b6a1b79d",
   "metadata": {},
   "source": [
    "## Exercise"
   ]
  },
  {
   "cell_type": "markdown",
   "id": "22ed968a-bad3-424a-bdaf-5de8441e6cb5",
   "metadata": {},
   "source": [
    "Use tactics you learned and fix the promt to get the correct answer"
   ]
  },
  {
   "cell_type": "code",
   "execution_count": 7,
   "id": "696e5a68-1f5c-4981-bb9c-0274571679fc",
   "metadata": {},
   "outputs": [
    {
     "name": "stdout",
     "output_type": "stream",
     "text": [
      "Let's break it down:\n",
      "\n",
      "1 fish = 0.5 shekels (since it costs a shekel and a half for a fish and a half)\n",
      "\n",
      "To find the cost of 5 fish, we can multiply the cost of 1 fish by 5:\n",
      "\n",
      "5 x 0.5 shekels/fish = 2.5 shekels\n",
      "\n",
      "So, 5 fish cost 2.5 shekels.\n"
     ]
    }
   ],
   "source": [
    "prompt = \"A fish and a half costs a shekel and a half, how much do 5 fish cost?\"\n",
    "print(get_completion(prompt))"
   ]
  },
  {
   "cell_type": "code",
   "execution_count": null,
   "id": "133e6d59-a600-4e58-8b38-72d2cc810251",
   "metadata": {},
   "outputs": [],
   "source": []
  }
 ],
 "metadata": {
  "kernelspec": {
   "display_name": "Python 3 (ipykernel)",
   "language": "python",
   "name": "python3"
  },
  "language_info": {
   "codemirror_mode": {
    "name": "ipython",
    "version": 3
   },
   "file_extension": ".py",
   "mimetype": "text/x-python",
   "name": "python",
   "nbconvert_exporter": "python",
   "pygments_lexer": "ipython3",
   "version": "3.11.0"
  }
 },
 "nbformat": 4,
 "nbformat_minor": 5
}
