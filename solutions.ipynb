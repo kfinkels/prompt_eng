{
 "cells": [
  {
   "cell_type": "markdown",
   "id": "5ad2c518-1724-4a42-bda8-3b799c173b53",
   "metadata": {},
   "source": [
    "### Solution 1"
   ]
  },
  {
   "cell_type": "code",
   "execution_count": 3,
   "id": "0f88f402-f724-4f7e-ad53-237215bda3c5",
   "metadata": {},
   "outputs": [],
   "source": [
    "import ollama\n",
    "\n",
    "\n",
    "def get_completion(prompt, model='llama3'):\n",
    "    \"\"\"\n",
    "    Get the completion for a given prompt using the specified model.\n",
    "    Returns the answer with the highest score.\n",
    "    \"\"\"\n",
    "    response = ollama.chat(model=model, messages=[{\n",
    "        'role': 'user',\n",
    "        'content': prompt,\n",
    "      }])\n",
    "    return response['message']['content']"
   ]
  },
  {
   "cell_type": "code",
   "execution_count": 25,
   "id": "6791ba69-3bd2-42b1-aad2-4bebc49b34ed",
   "metadata": {},
   "outputs": [
    {
     "name": "stdout",
     "output_type": "stream",
     "text": [
      "A classic math problem!\n",
      "\n",
      "Let's break it down:\n",
      "\n",
      "1.5 fishes cost 1.5 shekels.\n",
      "\n",
      "To find out how many shekels 5 fishes cost, we can multiply the number of fishes by the ratio of shekels per fish:\n",
      "\n",
      "5 fishes × (1.5 shekels / 1.5 fishes) = 5 fishes × 1 = 5 shekels\n",
      "\n",
      "So, 5 fishes cost 5 shekels!\n"
     ]
    }
   ],
   "source": [
    "prompt = \"1.5 fishes costs a 1.5 shekels, how much do 5 fishes cost?\"\n",
    "print(get_completion(prompt))"
   ]
  },
  {
   "cell_type": "code",
   "execution_count": 26,
   "id": "a05f7021-4d25-4efa-92ea-5db2c131b412",
   "metadata": {},
   "outputs": [
    {
     "name": "stdout",
     "output_type": "stream",
     "text": [
      "Positive\n"
     ]
    }
   ],
   "source": [
    "lamp_review = \"\"\"\n",
    "Needed a nice lamp for my bedroom, and this one had \\\n",
    "additional storage and not too high of a price point. \\\n",
    "Got it fast.  The string to our lamp broke during the \\\n",
    "transit and the company happily sent over a new one. \\\n",
    "Came within a few days as well. It was easy to put \\\n",
    "together.  I had a missing part, so I contacted their \\\n",
    "support and they very quickly got me the missing piece! \\\n",
    "Lumina seems to me to be a great company that cares \\\n",
    "about their customers and products!!\n",
    "\"\"\"\n",
    "\n",
    "prompt = f\"\"\"\n",
    "What is the sentiment of the following product review, \n",
    "which is delimited with triple backticks?\n",
    "\n",
    "Give your answer as a single word, either \"positive\" \\\n",
    "or \"negative\".\n",
    "\n",
    "Review text: '''{lamp_review}'''\n",
    "\"\"\"\n",
    "response = get_completion(prompt)\n",
    "print(response)"
   ]
  },
  {
   "cell_type": "markdown",
   "id": "c128bcbc-1354-4b96-adcd-a755a5306ed0",
   "metadata": {},
   "source": [
    "Instruct the AI to write a the best unit test for the following code:\n",
    "```\n",
    "import requests\n",
    "\n",
    "def get_user_data(user_id):\n",
    "    url = f\"https://api.example.com/users/{user_id}\"\n",
    "    response = requests.get(url)\n",
    "    if response.status_code == 200:\n",
    "        return response.json()\n",
    "    else:\n",
    "        response.raise_for_status()\n",
    "```\n"
   ]
  },
  {
   "cell_type": "code",
   "execution_count": 4,
   "id": "87757a21-ea81-4f0a-b116-32455a7bda6c",
   "metadata": {},
   "outputs": [
    {
     "name": "stdout",
     "output_type": "stream",
     "text": [
      "Here are two solutions for writing unit tests using Pytest's `patch` function:\n",
      "\n",
      "**Solution 1: Using the `with` statement**\n",
      "```python\n",
      "import pytest\n",
      "from your_module import get_user_data\n",
      "\n",
      "@pytest.mark.parametrize(\"user_id, expected_result\", [\n",
      "    (123, {'name': 'John', 'age': 30}),  # Replace with your expected result\n",
      "])\n",
      "def test_get_user_data(user_id, expected_result):\n",
      "    with patch('requests.get') as mock_get:\n",
      "        mock_get.return_value.status_code = 200\n",
      "        mock_get.return_value.json.return_value = expected_result\n",
      "\n",
      "        result = get_user_data(user_id)\n",
      "        assert result == expected_result\n",
      "```\n",
      "In this solution, we use the `with` statement to create a context manager that will patch the `requests.get` function. We then set up the mock behavior by setting the `status_code` and `json` attributes of the mock object. Finally, we call the `get_user_data` function and assert that it returns the expected result.\n",
      "\n",
      "**Solution 2: Using a decorator**\n",
      "```python\n",
      "import pytest\n",
      "from your_module import get_user_data\n",
      "\n",
      "@pytest.fixture\n",
      "def mock_get():\n",
      "    with patch('requests.get') as mock_get:\n",
      "        yield mock_get\n",
      "\n",
      "@pytest.mark.parametrize(\"user_id, expected_result\", [\n",
      "    (123, {'name': 'John', 'age': 30}),  # Replace with your expected result\n",
      "])\n",
      "def test_get_user_data(mock_get, user_id, expected_result):\n",
      "    mock_get.return_value.status_code = 200\n",
      "    mock_get.return_value.json.return_value = expected_result\n",
      "\n",
      "    result = get_user_data(user_id)\n",
      "    assert result == expected_result\n",
      "```\n",
      "In this solution, we define a fixture function `mock_get` that uses the `patch` function to create a mock object for the `requests.get` function. We then use this fixture in our test function by decorating it with the `@pytest.mark.parametrize` marker.\n",
      "\n",
      "Note that in both solutions, you'll need to replace `your_module` and `expected_result` with the actual module name and expected result values for your specific use case.\n"
     ]
    }
   ],
   "source": [
    "code = \"\"\"\n",
    "import requests\n",
    "\n",
    "def get_user_data(user_id):\n",
    "    url = f\"https://api.example.com/users/{user_id}\"\n",
    "    response = requests.get(url)\n",
    "    if response.status_code == 200:\n",
    "        return response.json()\n",
    "    else:\n",
    "        response.raise_for_status()\n",
    "\"\"\"\n",
    "\n",
    "prompt = f\"\"\"\n",
    "I have the following code: '''{code}'''. Write a unit test using pytest patch \n",
    "Give me 2 solutions: using with and as decorator \n",
    "\"\"\"\n",
    "\n",
    "print(get_completion(prompt))"
   ]
  },
  {
   "cell_type": "code",
   "execution_count": null,
   "id": "a6c92ff6-3511-4b76-9186-f9818639176f",
   "metadata": {},
   "outputs": [],
   "source": []
  }
 ],
 "metadata": {
  "kernelspec": {
   "display_name": "Python 3 (ipykernel)",
   "language": "python",
   "name": "python3"
  },
  "language_info": {
   "codemirror_mode": {
    "name": "ipython",
    "version": 3
   },
   "file_extension": ".py",
   "mimetype": "text/x-python",
   "name": "python",
   "nbconvert_exporter": "python",
   "pygments_lexer": "ipython3",
   "version": "3.11.0"
  }
 },
 "nbformat": 4,
 "nbformat_minor": 5
}
