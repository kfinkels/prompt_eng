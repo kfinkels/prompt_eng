{
 "cells": [
  {
   "cell_type": "markdown",
   "id": "9ecd03a8-1305-4758-a822-fe30c795391b",
   "metadata": {},
   "source": [
    "# Model Parameters"
   ]
  },
  {
   "cell_type": "code",
   "id": "a8eb62c2-1055-426c-a884-3c1c30a249f4",
   "metadata": {
    "ExecuteTime": {
     "end_time": "2024-12-11T11:54:29.758429Z",
     "start_time": "2024-12-11T11:54:29.755597Z"
    }
   },
   "source": [
    "import google.generativeai as genai\n",
    "\n",
    "genai.configure(api_key=\"<your key\")\n",
    "\n",
    "\n",
    "def get_completion(prompt, temperature=1.0, max_output_tokens=None, stop_sequences=None):\n",
    "    \"\"\"\n",
    "    Get the completion for a given prompt using the specified model.\n",
    "    Returns the answer with the highest score.\n",
    "    \"\"\"\n",
    "    model = genai.GenerativeModel(\n",
    "            \"models/gemini-1.5-flash\",\n",
    "            system_instruction=\"You are a user.\",\n",
    "        )\n",
    "    response = model.generate_content(\n",
    "        prompt,\n",
    "        generation_config=genai.types.GenerationConfig(\n",
    "                temperature=temperature,\n",
    "                max_output_tokens=max_output_tokens,\n",
    "                stop_sequences=stop_sequences\n",
    "            ),\n",
    "    )\n",
    "    return response.text"
   ],
   "outputs": [],
   "execution_count": 251
  },
  {
   "metadata": {},
   "cell_type": "markdown",
   "source": "## Temperature: Adding Randomness to the Responses",
   "id": "e115c62959ff62d3"
  },
  {
   "metadata": {},
   "cell_type": "markdown",
   "source": [
    "A higher value, makes the answers more diverse, while a lower value, makes them more focused and deterministic.\n",
    "\n",
    "Range for gemini-1.5-flash : 0.0 - 2.0 (default: 1.0 )"
   ],
   "id": "c775bcce60f780cd"
  },
  {
   "cell_type": "code",
   "id": "27c3c099-11a1-4955-809b-53e99faab4a8",
   "metadata": {
    "ExecuteTime": {
     "end_time": "2024-12-11T11:54:31.583764Z",
     "start_time": "2024-12-11T11:54:29.759280Z"
    }
   },
   "source": [
    "prompt = \"\"\"Suggest a unique activity for a weekend adventure.\"\"\"\n",
    "\n",
    "print(get_completion(prompt, temperature=1.0)) # vs 2.0 or 0.0"
   ],
   "outputs": [
    {
     "name": "stdout",
     "output_type": "stream",
     "text": [
      "Go geocaching in a state park, followed by a night of astrophotography.  The geocaching provides daytime exploration and a bit of a puzzle, and the astrophotography offers a relaxing and awe-inspiring nighttime activity, especially if you find a location away from light pollution.\n",
      "\n"
     ]
    }
   ],
   "execution_count": 252
  },
  {
   "cell_type": "markdown",
   "id": "405ab16e-7467-4c04-91ff-ad747e99670c",
   "metadata": {},
   "source": [
    "## Max Tokens: Limiting the Response Length"
   ]
  },
  {
   "cell_type": "markdown",
   "id": "7ea16ded-c2b2-4c52-baca-78036e3b6786",
   "metadata": {},
   "source": [
    "* The max_tokens parameter allows you to limit the length of the generated response\n",
    "* Rule of thumb: 1 token is approximately 4 characters or 0.75 words for English text.\n",
    "* It’s essential to remember that tokens are not equivalent to words, as they can also represent punctuation marks, spaces, or special characters."
   ]
  },
  {
   "cell_type": "code",
   "id": "d07c7ac5-60a9-4125-921f-7250e14177c9",
   "metadata": {
    "ExecuteTime": {
     "end_time": "2024-12-11T11:54:32.212211Z",
     "start_time": "2024-12-11T11:54:31.584581Z"
    }
   },
   "source": [
    "prompt = \"Suggest a unique activity for a weekend adventure.\"\n",
    "print(get_completion(prompt, max_output_tokens=10)) # vs 10"
   ],
   "outputs": [
    {
     "name": "stdout",
     "output_type": "stream",
     "text": [
      "Go geocaching with a historical twist.  Instead\n"
     ]
    }
   ],
   "execution_count": 253
  },
  {
   "cell_type": "markdown",
   "id": "b9a7b5f1-a0b1-435e-9b55-8cd9ddaeec27",
   "metadata": {},
   "source": [
    "## Stop: Customizing stop Conditions"
   ]
  },
  {
   "cell_type": "markdown",
   "id": "7ec39192-f690-4bd1-948a-d07b2a82d221",
   "metadata": {},
   "source": [
    "Providing a list of stop words can help prevent the model from generating responses containing those specific words. Include relevant stop words based on your application."
   ]
  },
  {
   "cell_type": "code",
   "id": "aacc8db1-b532-4d86-b05d-ba528c6f3f0a",
   "metadata": {
    "ExecuteTime": {
     "end_time": "2024-12-11T11:54:32.862795Z",
     "start_time": "2024-12-11T11:54:32.214445Z"
    }
   },
   "source": [
    "prompt = \"Translate the following English text to French: 'Hello, how are you?'\"\n",
    "print(get_completion(prompt)) #, stop_sequences=[\"comment\"]))"
   ],
   "outputs": [
    {
     "name": "stdout",
     "output_type": "stream",
     "text": [
      "Bonjour, comment allez-vous ?\n",
      "\n"
     ]
    }
   ],
   "execution_count": 254
  },
  {
   "metadata": {},
   "cell_type": "markdown",
   "source": "## candidate_count: Number of generated responses to return",
   "id": "7f1bff8ad5bb110a"
  },
  {
   "metadata": {
    "ExecuteTime": {
     "end_time": "2024-12-11T11:54:32.870492Z",
     "start_time": "2024-12-11T11:54:32.864746Z"
    }
   },
   "cell_type": "code",
   "source": [
    "import google.generativeai as genai\n",
    "\n",
    "genai.configure(api_key=\"<your key>\")\n",
    "\n",
    "\n",
    "def get_completion(prompt, temperature=1.0, candidate_count=1):\n",
    "    \"\"\"\n",
    "    Get the completion for a given prompt using the specified model.\n",
    "    Returns the answer with the highest score.\n",
    "    \"\"\"\n",
    "    model = genai.GenerativeModel(\n",
    "            \"models/gemini-1.5-flash\",\n",
    "            system_instruction=\"You are a user.\",\n",
    "        )\n",
    "    response = model.generate_content(\n",
    "        prompt,\n",
    "        generation_config=genai.types.GenerationConfig(\n",
    "                temperature=temperature,\n",
    "                candidate_count=candidate_count\n",
    "            ),\n",
    "    )\n",
    "    return response.candidates"
   ],
   "id": "871e829b45aa9b93",
   "outputs": [],
   "execution_count": 255
  },
  {
   "metadata": {
    "ExecuteTime": {
     "end_time": "2024-12-11T11:54:34.493616Z",
     "start_time": "2024-12-11T11:54:32.872141Z"
    }
   },
   "cell_type": "code",
   "source": [
    "prompt = \"\"\"Suggest a unique activity for a weekend adventure.\"\"\"\n",
    "\n",
    "candidates = get_completion(prompt, temperature=1.0, candidate_count=1)\n",
    "for candidate in candidates:\n",
    "    print(candidate.content.parts[0].text)\n"
   ],
   "id": "d21aba0503372d1",
   "outputs": [
    {
     "name": "stdout",
     "output_type": "stream",
     "text": [
      "Go geocaching and combine it with a themed scavenger hunt.  Instead of just finding the geocache, create a list of clues related to a specific theme (like historical figures in your town, types of birds in a local park, or even fictional characters from a book).  Each clue leads to a new geocache location or a location where you need to solve a puzzle to get the next clue, culminating in a final prize at the last location. This combines the thrill of the hunt with problem-solving and learning something new.\n",
      "\n"
     ]
    }
   ],
   "execution_count": 256
  },
  {
   "metadata": {
    "ExecuteTime": {
     "end_time": "2024-12-11T11:54:34.496077Z",
     "start_time": "2024-12-11T11:54:34.494570Z"
    }
   },
   "cell_type": "code",
   "source": "",
   "id": "935a5fed31023b55",
   "outputs": [],
   "execution_count": 256
  }
 ],
 "metadata": {
  "kernelspec": {
   "display_name": "Python 3 (ipykernel)",
   "language": "python",
   "name": "python3"
  },
  "language_info": {
   "codemirror_mode": {
    "name": "ipython",
    "version": 3
   },
   "file_extension": ".py",
   "mimetype": "text/x-python",
   "name": "python",
   "nbconvert_exporter": "python",
   "pygments_lexer": "ipython3",
   "version": "3.11.0"
  }
 },
 "nbformat": 4,
 "nbformat_minor": 5
}
