{
 "cells": [
  {
   "cell_type": "code",
   "id": "325d39b3-88d9-4848-9d09-6c549e63351d",
   "metadata": {},
   "source": [
    "import google.generativeai as genai\n",
    "\n",
    "genai.configure(api_key=\"<your key>\")\n",
    "\n",
    "\n",
    "def get_completion(prompt):\n",
    "    \"\"\"\n",
    "    Get the completion for a given prompt using the specified model.\n",
    "    Returns the answer with the highest score.\n",
    "    \"\"\"\n",
    "    model = genai.GenerativeModel(\n",
    "            \"models/gemini-1.5-flash\",\n",
    "            system_instruction=\"You are a user.\",\n",
    "        )\n",
    "    response = model.generate_content(prompt)\n",
    "    return response.text"
   ],
   "outputs": [],
   "execution_count": null
  },
  {
   "cell_type": "markdown",
   "id": "11b7fc94-4756-4869-b08b-6c0278afe34c",
   "metadata": {},
   "source": [
    "# Effective Code Writing Prompts"
   ]
  },
  {
   "cell_type": "markdown",
   "id": "6d38689d-3cc9-4523-b16c-37175388bfba",
   "metadata": {},
   "source": [
    "## Prompt: \"Help me build my data model\""
   ]
  },
  {
   "cell_type": "markdown",
   "id": "4a620099-a9fb-4cf6-8cce-b8cfae3006f8",
   "metadata": {},
   "source": "At some point, you'll have to step in and make some decisions. (check also what if I want it as SQLModel)"
  },
  {
   "cell_type": "code",
   "id": "6a8ccaa5-9944-4df3-91bd-97d967b40346",
   "metadata": {},
   "source": [
    "prompt = f\"\"\"\n",
    "Can you help me build a data model?  Here are the entities that I have so far:\n",
    "\n",
    "- User\n",
    "- Restaurant\n",
    "- Location\n",
    "- Reservation\n",
    "\n",
    "I am building an app where users can search for restaurants near them and book reservations.\n",
    "\n",
    "Show me what this data model should look like and how I can improve it.\n",
    "\"\"\"\n",
    "print(get_completion(prompt))"
   ],
   "outputs": [],
   "execution_count": null
  },
  {
   "cell_type": "markdown",
   "id": "f99d6994-5fe3-4743-b8fc-de479f6393e9",
   "metadata": {},
   "source": [
    "## Prompt: \"Build me a utility function that does XYZ\""
   ]
  },
  {
   "cell_type": "code",
   "id": "e06b8a94-1546-4a61-91cc-206adb14e810",
   "metadata": {},
   "source": [
    "prompt = \"\"\"\n",
    "Write a python function to find the Fibonacci series of n using recursion. \n",
    "The function should take these inputs: input-variables and return desired-output.\n",
    "\"\"\"\n",
    "print(get_completion(prompt))"
   ],
   "outputs": [],
   "execution_count": null
  },
  {
   "cell_type": "markdown",
   "id": "925a0263-f84c-4d81-81ea-6e4e2cff92b6",
   "metadata": {},
   "source": [
    "## Prompt: \"Build me a unittest\""
   ]
  },
  {
   "cell_type": "code",
   "id": "97024a9b-77dd-4f6d-adcc-6dd738abb1b2",
   "metadata": {},
   "source": [
    "function = f\"\"\"\n",
    "    def fibonacci(n):\n",
    "        if n <= 0:\n",
    "            return []\n",
    "        elif n == 1:\n",
    "            return [0]\n",
    "        elif n == 2:\n",
    "            return [0, 1]\n",
    "        else:\n",
    "            fib_series = fibonacci(n-1)\n",
    "            fib_series.append(fibonacci(n-1)[-1] + fibonacci(n-1)[-2])\n",
    "            return fib_series\n",
    "\"\"\"\n",
    "\n",
    "prompt = f\"\"\"\n",
    "Build me a unit test for the following function: '''{function}'''\n",
    "Use parameterized to validate several parameters options\n",
    "add edge cases to the test (very large number for example)\"\"\"\n",
    "# Use pytest over unittest\"\"\"\n",
    "\n",
    "print(get_completion(prompt))"
   ],
   "outputs": [],
   "execution_count": null
  },
  {
   "cell_type": "markdown",
   "id": "756eb774-27c2-44ce-87b4-79c258449b87",
   "metadata": {},
   "source": [
    "# Prompts for Debugging and Code Review"
   ]
  },
  {
   "cell_type": "markdown",
   "id": "bbb76d3f-82de-4618-8a05-c436893bdeac",
   "metadata": {},
   "source": [
    "## Prompt: \"Fix my code\""
   ]
  },
  {
   "cell_type": "code",
   "id": "42f1bf59-e74b-47e1-84dd-7feb953b50cc",
   "metadata": {},
   "source": [
    "def some_function(input):\n",
    "    for i in range(len(input)):\n",
    "        if input[i] == 2:\n",
    "            del input[i]\n",
    "    return input\n",
    "\n",
    "list_01 = [1,2,4,5,6]\n",
    "some_function(list_01)"
   ],
   "outputs": [],
   "execution_count": null
  },
  {
   "cell_type": "markdown",
   "id": "d1c76b0d-0ae1-49ec-a5dd-7a5df3ce58dd",
   "metadata": {},
   "source": [
    "**Error: Modifying a list while iterating over it**"
   ]
  },
  {
   "cell_type": "code",
   "id": "94af8478-c299-4b72-9f3a-60cf8702ec1b",
   "metadata": {},
   "source": [
    "code = f\"\"\"\n",
    "def some_function(input):\n",
    "    for i in range(len(input)):\n",
    "        if input[i] == 2:\n",
    "            del input[i]\n",
    "    return input\n",
    "\n",
    "list_01 = [1,2,4,5,6]\n",
    "some_function(list_01)\"\"\"\n",
    "\n",
    "prompt = f\"\"\"\n",
    "Find the errors in my code: '''{code}''' and fix it\n",
    "\"\"\"\n",
    "print(get_completion(prompt))"
   ],
   "outputs": [],
   "execution_count": null
  },
  {
   "cell_type": "markdown",
   "id": "8d50e9a4-2c8c-43b8-8635-0a40f441353b",
   "metadata": {},
   "source": [
    "## Prompt: \"Can you improve my code?\""
   ]
  },
  {
   "cell_type": "code",
   "id": "0d680d6a-29e9-4319-a785-2ce3a6ac982f",
   "metadata": {},
   "source": [
    "code = f\"\"\"\n",
    "def some_function(input):\n",
    "    new_list = []\n",
    "    for item in input_list:\n",
    "        if item != 2:\n",
    "            new_list.append(item)\n",
    "    return new_list\n",
    "\n",
    "list_01 = [1,2,4,5,6]\n",
    "some_function(list_01)\n",
    "\"\"\"\n",
    "\n",
    "prompt = f\"Can you improve my code: '''{code}'''? (in a more pythonic way)\"\n",
    "\n",
    "print(get_completion(prompt))"
   ],
   "outputs": [],
   "execution_count": null
  },
  {
   "cell_type": "markdown",
   "id": "faab1fec-75e9-4f84-80bb-d23ebc3a0800",
   "metadata": {},
   "source": [
    "## Prompt: \"What best practices should I use for XYZ?\""
   ]
  },
  {
   "cell_type": "code",
   "id": "35161429-73a8-494c-ba64-de567282781d",
   "metadata": {},
   "source": [
    "prompt = \"\"\"I'm building my own user authentication with Python and FastAPI. \n",
    "Can you give me some 'best practices' to use here?\"\"\"\n",
    "\n",
    "print(get_completion(prompt))"
   ],
   "outputs": [],
   "execution_count": null
  },
  {
   "cell_type": "markdown",
   "id": "3d84cd8c-126b-4f09-90fc-0e3af85ed785",
   "metadata": {},
   "source": [
    "## Prompt: \"What are the trade-offs?\""
   ]
  },
  {
   "cell_type": "code",
   "id": "14347b5f-d287-4395-ae16-3c5f69bdf9a3",
   "metadata": {},
   "source": [
    "prompt = f\"\"\"\n",
    "I am developing a new project utilizing a client-server architecture, implementing microservices. \n",
    "I am familiar with the challenges related to service discovery. \n",
    "Could you elucidate the trade-offs associated with the various approaches to service discovery?\n",
    "\"\"\"\n",
    "\n",
    "print(get_completion(prompt))"
   ],
   "outputs": [],
   "execution_count": null
  },
  {
   "cell_type": "markdown",
   "id": "d9520b75-61e3-47c8-a240-e5c8f3fed270",
   "metadata": {},
   "source": [
    "## Prompt: \"Using X, Y, Z, build me a ...\""
   ]
  },
  {
   "cell_type": "code",
   "id": "640c210d-3436-4245-9379-669296383385",
   "metadata": {},
   "source": [
    "prompt = f\"\"\"\n",
    "Using codespell, black and isort create a pre-commit configuration file for python using pre-commit library\n",
    "\"\"\"\n",
    "print(get_completion(prompt))"
   ],
   "outputs": [],
   "execution_count": null
  },
  {
   "cell_type": "markdown",
   "id": "aa4186cf-c51e-40e9-a410-e547ade1a232",
   "metadata": {},
   "source": [
    "## Prompt: \"Transform this code into...\""
   ]
  },
  {
   "cell_type": "code",
   "id": "70a5428a-d2ae-4f42-82f9-eb6e810f0249",
   "metadata": {},
   "source": [
    "code = \"\"\"\n",
    "#!/bin/bash\n",
    "\n",
    "# Bash script to read a file line by line\n",
    "\n",
    "filename=\"README.md\"\n",
    "\n",
    "# Check if the file exists\n",
    "if [[ -f \"$filename\" ]]; then\n",
    "    while IFS= read -r line\n",
    "    do\n",
    "        echo \"$line\"\n",
    "    done < \"$filename\"\n",
    "else\n",
    "    echo \"File not found!\"\n",
    "fi\n",
    "\"\"\"\n",
    "prompt = f\"\"\"\n",
    "Can you transform this bash code: {{{code}}} to Python?\n",
    "\"\"\"\n",
    "\n",
    "print(get_completion(prompt))"
   ],
   "outputs": [],
   "execution_count": null
  },
  {
   "cell_type": "markdown",
   "id": "4d486f7d-dbfb-4c45-b625-df040813239e",
   "metadata": {},
   "source": [
    "## Prompt: \"Write a bash script\""
   ]
  },
  {
   "cell_type": "code",
   "id": "1fbd54c7-3d6f-4ed7-9e6e-b4f1110454ec",
   "metadata": {},
   "source": [
    "prompt = \"\"\"\n",
    "Write me a bash script that will find all files in my ~/Desktop directory that end in jpg, JPG, png, or PNG \n",
    "and copy them to the ~/Documents/tmp folder.\n",
    "\"\"\"\n",
    "\n",
    "print(get_completion(prompt))"
   ],
   "outputs": [],
   "execution_count": null
  },
  {
   "cell_type": "markdown",
   "id": "ff3f5446-922b-4b7b-8085-30e08b7a33bc",
   "metadata": {},
   "source": [
    "## Prompt: \"Build me a script in [language] that...\""
   ]
  },
  {
   "cell_type": "code",
   "id": "97ddfee0-ace9-4dfc-a08e-9d7cfae59974",
   "metadata": {},
   "source": [
    "prompt = \"\"\"\n",
    "Write a script in python that performs the following steps:\n",
    "\n",
    "1. Goes to a YouTube channel\n",
    "2. Finds the top 10 videos by view count\n",
    "3. Saves the title, a URL to the thumbnail, and view count in a file called `youtube.txt`\n",
    "\"\"\"\n",
    "\n",
    "print(get_completion(prompt))"
   ],
   "outputs": [],
   "execution_count": null
  },
  {
   "metadata": {},
   "cell_type": "markdown",
   "source": "# Exercise              ",
   "id": "66cac72f6e357e5d"
  },
  {
   "metadata": {},
   "cell_type": "markdown",
   "source": [
    "Instruct the AI to write the best unit test for the following code:\n",
    "```\n",
    "import requests\n",
    "\n",
    "def get_user_data(user_id):\n",
    "    url = f\"https://api.example.com/users/{user_id}\"\n",
    "    response = requests.get(url)\n",
    "    if response.status_code == 200:\n",
    "        return response.json()\n",
    "    else:\n",
    "        response.raise_for_status()\n",
    "```"
   ],
   "id": "ac24eb8dbd262272"
  },
  {
   "metadata": {},
   "cell_type": "code",
   "source": "",
   "id": "f1a01c5030478988",
   "outputs": [],
   "execution_count": null
  }
 ],
 "metadata": {
  "kernelspec": {
   "display_name": "Python 3 (ipykernel)",
   "language": "python",
   "name": "python3"
  },
  "language_info": {
   "codemirror_mode": {
    "name": "ipython",
    "version": 3
   },
   "file_extension": ".py",
   "mimetype": "text/x-python",
   "name": "python",
   "nbconvert_exporter": "python",
   "pygments_lexer": "ipython3",
   "version": "3.11.0"
  }
 },
 "nbformat": 4,
 "nbformat_minor": 5
}
