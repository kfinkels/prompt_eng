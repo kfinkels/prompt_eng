{
 "cells": [
  {
   "cell_type": "code",
   "id": "325d39b3-88d9-4848-9d09-6c549e63351d",
   "metadata": {
    "ExecuteTime": {
     "end_time": "2024-12-10T11:10:54.228367Z",
     "start_time": "2024-12-10T11:10:54.207419Z"
    }
   },
   "source": [
    "import google.generativeai as genai\n",
    "\n",
    "genai.configure(api_key=\"<your key>\")\n",
    "\n",
    "\n",
    "def get_completion(prompt):\n",
    "    \"\"\"\n",
    "    Get the completion for a given prompt using the specified model.\n",
    "    Returns the answer with the highest score.\n",
    "    \"\"\"\n",
    "    model = genai.GenerativeModel(\n",
    "            \"models/gemini-1.5-flash\",\n",
    "            system_instruction=\"You are a user.\",\n",
    "        )\n",
    "    response = model.generate_content(prompt)\n",
    "    return response.text"
   ],
   "outputs": [],
   "execution_count": 2
  },
  {
   "cell_type": "markdown",
   "id": "11b7fc94-4756-4869-b08b-6c0278afe34c",
   "metadata": {},
   "source": [
    "# Effective Code Writing Prompts"
   ]
  },
  {
   "cell_type": "markdown",
   "id": "6d38689d-3cc9-4523-b16c-37175388bfba",
   "metadata": {},
   "source": [
    "## Prompt: \"Help me build my data model\""
   ]
  },
  {
   "cell_type": "markdown",
   "id": "4a620099-a9fb-4cf6-8cce-b8cfae3006f8",
   "metadata": {},
   "source": "At some point, you'll have to step in and make some decisions. (check also what if I want it as SQLModel)"
  },
  {
   "cell_type": "code",
   "id": "6a8ccaa5-9944-4df3-91bd-97d967b40346",
   "metadata": {
    "ExecuteTime": {
     "end_time": "2024-12-10T11:12:35.632921Z",
     "start_time": "2024-12-10T11:12:26.462152Z"
    }
   },
   "source": [
    "prompt = f\"\"\"\n",
    "Can you help me build a data model?  Here are the entities that I have so far:\n",
    "\n",
    "- User\n",
    "- Restaurant\n",
    "- Location\n",
    "- Reservation\n",
    "\n",
    "I am building an app where users can search for restaurants near them and book reservations.\n",
    "\n",
    "Show me what this data model should look like and how I can improve it.\n",
    "\"\"\"\n",
    "print(get_completion(prompt))"
   ],
   "outputs": [
    {
     "name": "stdout",
     "output_type": "stream",
     "text": [
      "This data model uses SQLModel and addresses potential improvements for a user-restaurant reservation system.  It emphasizes relationships and data integrity.\n",
      "\n",
      "```python\n",
      "from typing import Optional, List\n",
      "\n",
      "from sqlmodel import Field, SQLModel, Relationship\n",
      "\n",
      "\n",
      "class Location(SQLModel, table=True):\n",
      "    id: Optional[int] = Field(default=None, primary_key=True)\n",
      "    address: str\n",
      "    city: str\n",
      "    state: str\n",
      "    zip_code: str\n",
      "\n",
      "\n",
      "class Restaurant(SQLModel, table=True):\n",
      "    id: Optional[int] = Field(default=None, primary_key=True)\n",
      "    name: str\n",
      "    location_id: int = Field(foreign_key=\"location.id\")  # Foreign key to Location\n",
      "    location: Location = Relationship(back_populates=\"restaurants\") #backref\n",
      "    description: Optional[str] = None\n",
      "    phone_number: Optional[str] = None\n",
      "    # Add other relevant restaurant attributes (e.g., cuisine, price range, hours)\n",
      "\n",
      "\n",
      "class User(SQLModel, table=True):\n",
      "    id: Optional[int] = Field(default=None, primary_key=True)\n",
      "    username: str = Field(unique=True)\n",
      "    password_hash: str  # Store password securely (never plain text!)\n",
      "    first_name: str\n",
      "    last_name: str\n",
      "    email: str = Field(unique=True)\n",
      "    reservations: List[\"Reservation\"] = Relationship(back_populates=\"user\")\n",
      "\n",
      "\n",
      "class Reservation(SQLModel, table=True):\n",
      "    id: Optional[int] = Field(default=None, primary_key=True)\n",
      "    user_id: int = Field(foreign_key=\"user.id\")\n",
      "    restaurant_id: int = Field(foreign_key=\"restaurant.id\")\n",
      "    user: User = Relationship(back_populates=\"reservations\")\n",
      "    restaurant: Restaurant = Relationship(back_populates=\"reservations\")\n",
      "    reservation_time: str  # Consider using a proper datetime type\n",
      "    number_of_people: int\n",
      "    # Add other relevant reservation attributes (e.g., special requests, status)\n",
      "\n",
      "```\n",
      "\n",
      "**Improvements and Considerations:**\n",
      "\n",
      "* **Data Types:**  `reservation_time` should ideally be a proper datetime type (e.g., `datetime.datetime`)  for easier querying and sorting. SQLModel handles this well with appropriate database support.\n",
      "\n",
      "* **Password Security:**  **Never** store passwords in plain text. Use a robust password hashing algorithm (like bcrypt or Argon2) to securely store password hashes.  You'll need a separate library for this.\n",
      "\n",
      "* **Unique Constraints:**  The model includes `unique=True` for `username` and `email` in the `User` model to enforce uniqueness.\n",
      "\n",
      "* **Relationships:**  The `Relationship` field establishes the connections between tables (one-to-many relationships).  The `back_populates` argument creates efficient bidirectional relationships, allowing easy access to related data from either side. For example, you can easily get all reservations for a given user or all users who have reservations at a given restaurant.\n",
      "\n",
      "\n",
      "* **Restaurant Attributes:**  The `Restaurant` model currently includes only basic attributes.  Consider adding fields relevant to your app, such as:\n",
      "    * `cuisine`: (e.g., Italian, Mexican, etc.)\n",
      "    * `price_range`: (e.g., $, $$, $$$)\n",
      "    * `hours_of_operation`: (using a suitable data type to represent opening and closing times)\n",
      "    * `average_rating`: (a floating-point number for average user ratings)\n",
      "\n",
      "\n",
      "* **Reservation Attributes:**  Similarly, expand the `Reservation` model with fields like:\n",
      "    * `status`: (e.g., \"pending\", \"confirmed\", \"cancelled\")\n",
      "    * `special_requests`: (text field for any special requests)\n",
      "\n",
      "\n",
      "* **Error Handling and Validation:** You should add more robust validation and error handling (beyond what SQLModel provides by default).  For example, you might want to check that the number of people in a reservation is positive, or that the reservation time is in the future.\n",
      "\n",
      "* **Database Choice:** This model works with various SQL databases supported by SQLAlchemy (the underlying library of SQLModel).  Choose a database (PostgreSQL, MySQL, SQLite, etc.) that suits your project's needs.\n",
      "\n",
      "* **Search Optimization:** For efficient searching of restaurants near a user's location, consider adding a spatial index to the database (if your database supports it) to optimize queries based on geographic coordinates.  You might want to add `latitude` and `longitude` fields to the `Location` model for this purpose.\n",
      "\n",
      "\n",
      "Remember to install the necessary libraries: `pip install sqlmodel psycopg2-binary` (replace `psycopg2-binary` with the appropriate database driver if you're not using PostgreSQL).  Then you can create tables from this model using SQLModel's functionality (e.g., `SQLModel.metadata.create_all()`).\n",
      "\n"
     ]
    }
   ],
   "execution_count": 4
  },
  {
   "cell_type": "markdown",
   "id": "f99d6994-5fe3-4743-b8fc-de479f6393e9",
   "metadata": {},
   "source": [
    "## Prompt: \"Build me a utility function that does XYZ\""
   ]
  },
  {
   "cell_type": "code",
   "id": "e06b8a94-1546-4a61-91cc-206adb14e810",
   "metadata": {
    "ExecuteTime": {
     "end_time": "2024-12-10T11:13:43.662366Z",
     "start_time": "2024-12-10T11:13:40.483051Z"
    }
   },
   "source": [
    "prompt = \"\"\"\n",
    "Write a python function to find the Fibonacci series of n using recursion. \n",
    "The function should take these inputs: input-variables and return desired-output.\n",
    "\"\"\"\n",
    "print(get_completion(prompt))"
   ],
   "outputs": [
    {
     "name": "stdout",
     "output_type": "stream",
     "text": [
      "```python\n",
      "def fibonacci_recursive(n):\n",
      "    \"\"\"\n",
      "    Calculates the Fibonacci sequence up to n terms using recursion.\n",
      "\n",
      "    Args:\n",
      "        n: The number of terms to generate in the Fibonacci sequence.  Must be a non-negative integer.\n",
      "\n",
      "    Returns:\n",
      "        A list containing the first n Fibonacci numbers.  Returns an empty list if n is 0 or less.\n",
      "        Raises ValueError if input is not a non-negative integer.\n",
      "\n",
      "    \"\"\"\n",
      "    if not isinstance(n, int) or n < 0:\n",
      "        raise ValueError(\"Input must be a non-negative integer.\")\n",
      "    if n <= 1:\n",
      "        return [0] * n  #Handle base cases 0 and 1 efficiently\n",
      "    else:\n",
      "        list_fib = fibonacci_recursive(n-1)\n",
      "        list_fib.append(list_fib[-1] + list_fib[-2] if len(list_fib) > 1 else 1) #efficiently append next number\n",
      "        return list_fib\n",
      "\n",
      "# Get input from the user.  Error handling included.\n",
      "while True:\n",
      "    try:\n",
      "        num_terms = int(input(\"Enter the number of terms for the Fibonacci sequence: \"))\n",
      "        if num_terms < 0:\n",
      "            print(\"Please enter a non-negative integer.\")\n",
      "        else:\n",
      "            break\n",
      "    except ValueError:\n",
      "        print(\"Invalid input. Please enter an integer.\")\n",
      "\n",
      "\n",
      "fib_sequence = fibonacci_recursive(num_terms)\n",
      "print(\"Fibonacci sequence:\", fib_sequence)\n",
      "\n",
      "```\n"
     ]
    }
   ],
   "execution_count": 5
  },
  {
   "cell_type": "markdown",
   "id": "925a0263-f84c-4d81-81ea-6e4e2cff92b6",
   "metadata": {},
   "source": [
    "## Prompt: \"Build me a unittest\""
   ]
  },
  {
   "cell_type": "code",
   "id": "97024a9b-77dd-4f6d-adcc-6dd738abb1b2",
   "metadata": {
    "ExecuteTime": {
     "end_time": "2024-12-10T11:15:07.448329Z",
     "start_time": "2024-12-10T11:15:02.092712Z"
    }
   },
   "source": [
    "function = f\"\"\"\n",
    "    def fibonacci(n):\n",
    "        if n <= 0:\n",
    "            return []\n",
    "        elif n == 1:\n",
    "            return [0]\n",
    "        elif n == 2:\n",
    "            return [0, 1]\n",
    "        else:\n",
    "            fib_series = fibonacci(n-1)\n",
    "            fib_series.append(fibonacci(n-1)[-1] + fibonacci(n-1)[-2])\n",
    "            return fib_series\n",
    "\"\"\"\n",
    "\n",
    "prompt = f\"\"\"\n",
    "Build me a unit test for the following function: '''{function}'''\n",
    "Use parameterized to validate several parameters options\n",
    "add edge cases to the test (very large number for example)\"\"\"\n",
    "# Use pytest over unittest\"\"\"\n",
    "\n",
    "print(get_completion(prompt))"
   ],
   "outputs": [
    {
     "name": "stdout",
     "output_type": "stream",
     "text": [
      "```python\n",
      "import pytest\n",
      "from parameterized import parameterized\n",
      "\n",
      "def fibonacci(n):\n",
      "    if n <= 0:\n",
      "        return []\n",
      "    elif n == 1:\n",
      "        return [0]\n",
      "    elif n == 2:\n",
      "        return [0, 1]\n",
      "    else:\n",
      "        fib_series = fibonacci(n-1)\n",
      "        fib_series.append(fib_series[-1] + fib_series[-2])\n",
      "        return fib_series\n",
      "\n",
      "@parameterized.expand([\n",
      "    (0, []),\n",
      "    (1, [0]),\n",
      "    (2, [0, 1]),\n",
      "    (3, [0, 1, 1]),\n",
      "    (5, [0, 1, 1, 2, 3]),\n",
      "    (10, [0, 1, 1, 2, 3, 5, 8, 13, 21, 34]),\n",
      "    (20, [0, 1, 1, 2, 3, 5, 8, 13, 21, 34, 55, 89, 144, 233, 377, 610, 987, 1597, 2584, 4181]),\n",
      "    #Edge case: large number.  May need to adjust depending on system resources and recursion depth limits.\n",
      "    (30, [0, 1, 1, 2, 3, 5, 8, 13, 21, 34, 55, 89, 144, 233, 377, 610, 987, 1597, 2584, 4181, 6765, 10946, 17711, 28657, 46368, 75025, 121393, 196418, 317811, 514229]),\n",
      "\n",
      "])\n",
      "def test_fibonacci_positive(n, expected):\n",
      "    assert fibonacci(n) == expected\n",
      "\n",
      "\n",
      "#Test for negative input (edge case)\n",
      "def test_fibonacci_negative():\n",
      "    with pytest.raises(RecursionError): # Expect a RecursionError for very large negative numbers\n",
      "        fibonacci(-1) #Example -  a truly large negative number might be needed to trigger error consistently\n",
      "\n",
      "\n",
      "# Test for non-integer input (edge case)\n",
      "def test_fibonacci_non_integer():\n",
      "    with pytest.raises(TypeError):\n",
      "        fibonacci(3.14)\n",
      "        fibonacci(\"hello\")\n",
      "\n",
      "```\n"
     ]
    }
   ],
   "execution_count": 7
  },
  {
   "cell_type": "markdown",
   "id": "756eb774-27c2-44ce-87b4-79c258449b87",
   "metadata": {},
   "source": [
    "# Prompts for Debugging and Code Review"
   ]
  },
  {
   "cell_type": "markdown",
   "id": "bbb76d3f-82de-4618-8a05-c436893bdeac",
   "metadata": {},
   "source": [
    "## Prompt: \"Fix my code\""
   ]
  },
  {
   "cell_type": "code",
   "id": "42f1bf59-e74b-47e1-84dd-7feb953b50cc",
   "metadata": {},
   "source": [
    "def some_function(input):\n",
    "    for i in range(len(input)):\n",
    "        if input[i] == 2:\n",
    "            del input[i]\n",
    "    return input\n",
    "\n",
    "list_01 = [1,2,4,5,6]\n",
    "some_function(list_01)"
   ],
   "outputs": [],
   "execution_count": null
  },
  {
   "cell_type": "markdown",
   "id": "d1c76b0d-0ae1-49ec-a5dd-7a5df3ce58dd",
   "metadata": {},
   "source": [
    "**Error: Modifying a list while iterating over it**"
   ]
  },
  {
   "cell_type": "code",
   "id": "94af8478-c299-4b72-9f3a-60cf8702ec1b",
   "metadata": {
    "ExecuteTime": {
     "end_time": "2024-12-10T11:19:41.622668Z",
     "start_time": "2024-12-10T11:19:34.293279Z"
    }
   },
   "source": [
    "code = f\"\"\"\n",
    "def some_function(input):\n",
    "    for i in range(len(input)):\n",
    "        if input[i] == 2:\n",
    "            del input[i]\n",
    "    return input\n",
    "\n",
    "list_01 = [1,2,4,5,6]\n",
    "some_function(list_01)\"\"\"\n",
    "\n",
    "prompt = f\"\"\"\n",
    "Find the errors in my code: '''{code}''' and fix it\n",
    "\"\"\"\n",
    "print(get_completion(prompt))"
   ],
   "outputs": [
    {
     "name": "stdout",
     "output_type": "stream",
     "text": [
      "The primary error in the code lies within the `some_function`.  When you use `del input[i]` inside a loop that's iterating over the indices of `input`, you modify the list's length while simultaneously trying to access indices that no longer exist after the deletion. This leads to skipping elements and potentially IndexError exceptions.\n",
      "\n",
      "\n",
      "Here's a breakdown of why it's wrong and a few ways to fix it:\n",
      "\n",
      "**Why it's wrong:**\n",
      "\n",
      "Imagine the list is `[1, 2, 4, 5, 6]`.\n",
      "\n",
      "1. The loop starts at `i = 0`. `input[0]` (1) is not 2, so it continues.\n",
      "2. `i` becomes 1. `input[1]` (2) is 2, so `del input[1]` is executed.  The list becomes `[1, 4, 5, 6]`.\n",
      "3. `i` increments to 2.  The loop now tries to access `input[2]`, which is *5* (because the list has been modified).  The element that was originally at index 2 (4) is now skipped.\n",
      "\n",
      "\n",
      "**Correct Approaches:**\n",
      "\n",
      "There are several ways to correctly remove elements from a list while iterating:\n",
      "\n",
      "**1. Iterating over a copy:**\n",
      "\n",
      "This is the simplest and often most efficient approach:\n",
      "\n",
      "```python\n",
      "def some_function(input_list):\n",
      "    new_list = []\n",
      "    for item in input_list:\n",
      "        if item != 2:\n",
      "            new_list.append(item)\n",
      "    return new_list\n",
      "\n",
      "list_01 = [1, 2, 4, 5, 6]\n",
      "result = some_function(list_01)\n",
      "print(result)  # Output: [1, 4, 5, 6]\n",
      "```\n",
      "\n",
      "**2.  List comprehension (most Pythonic):**\n",
      "\n",
      "List comprehensions provide a concise way to achieve the same result:\n",
      "\n",
      "```python\n",
      "def some_function(input_list):\n",
      "    return [item for item in input_list if item != 2]\n",
      "\n",
      "list_01 = [1, 2, 4, 5, 6]\n",
      "result = some_function(list_01)\n",
      "print(result)  # Output: [1, 4, 5, 6]\n",
      "```\n",
      "\n",
      "**3. Iterating backwards (less common, but works):**\n",
      "\n",
      "This avoids index issues by deleting from the end:\n",
      "\n",
      "```python\n",
      "def some_function(input_list):\n",
      "    for i in range(len(input_list) - 1, -1, -1):  # Iterate backwards\n",
      "        if input_list[i] == 2:\n",
      "            del input_list[i]\n",
      "    return input_list\n",
      "\n",
      "list_01 = [1, 2, 4, 5, 6]\n",
      "result = some_function(list_01)\n",
      "print(result)  # Output: [1, 4, 5, 6]\n",
      "```\n",
      "\n",
      "\n",
      "The first two methods (creating a new list or using list comprehension) are generally preferred for their clarity and avoidance of potential side effects.  The third method, while functional, is less readable.  Choose the method that best suits your coding style and understanding.  Always prioritize clarity and maintainability.\n",
      "\n"
     ]
    }
   ],
   "execution_count": 11
  },
  {
   "cell_type": "markdown",
   "id": "8d50e9a4-2c8c-43b8-8635-0a40f441353b",
   "metadata": {},
   "source": [
    "## Prompt: \"Can you improve my code?\""
   ]
  },
  {
   "cell_type": "code",
   "id": "0d680d6a-29e9-4319-a785-2ce3a6ac982f",
   "metadata": {
    "ExecuteTime": {
     "end_time": "2024-12-10T11:22:01.042438Z",
     "start_time": "2024-12-10T11:21:59.144730Z"
    }
   },
   "source": [
    "code = f\"\"\"\n",
    "def some_function(input):\n",
    "    new_list = []\n",
    "    for item in input_list:\n",
    "        if item != 2:\n",
    "            new_list.append(item)\n",
    "    return new_list\n",
    "\n",
    "list_01 = [1,2,4,5,6]\n",
    "some_function(list_01)\n",
    "\"\"\"\n",
    "\n",
    "prompt = f\"Can you improve my code: '''{code}'''? (in a more pythonic way)\"\n",
    "\n",
    "print(get_completion(prompt))"
   ],
   "outputs": [
    {
     "name": "stdout",
     "output_type": "stream",
     "text": [
      "The most Pythonic way to remove items with a specific value from a list is using a list comprehension:\n",
      "\n",
      "```python\n",
      "def some_function(input_list):\n",
      "    return [item for item in input_list if item != 2]\n",
      "\n",
      "list_01 = [1, 2, 4, 5, 6]\n",
      "new_list = some_function(list_01)\n",
      "print(new_list)  # Output: [1, 4, 5, 6]\n",
      "```\n",
      "\n",
      "This single line accomplishes the same task as your original `for` loop, in a more concise and readable manner.  It also avoids creating an unnecessary empty list beforehand.  Note that I've also corrected a typo, changing `input` to `input_list` in the function definition.\n",
      "\n"
     ]
    }
   ],
   "execution_count": 13
  },
  {
   "cell_type": "markdown",
   "id": "faab1fec-75e9-4f84-80bb-d23ebc3a0800",
   "metadata": {},
   "source": [
    "## Prompt: \"What best practices should I use for XYZ?\""
   ]
  },
  {
   "cell_type": "code",
   "id": "35161429-73a8-494c-ba64-de567282781d",
   "metadata": {
    "ExecuteTime": {
     "end_time": "2024-12-10T11:22:25.922581Z",
     "start_time": "2024-12-10T11:22:15.663238Z"
    }
   },
   "source": [
    "prompt = \"\"\"I'm building my own user authentication with Python and FastAPI. \n",
    "Can you give me some 'best practices' to use here?\"\"\"\n",
    "\n",
    "print(get_completion(prompt))"
   ],
   "outputs": [
    {
     "name": "stdout",
     "output_type": "stream",
     "text": [
      "Building your own user authentication in Python with FastAPI requires careful attention to security best practices.  Rolling your own auth system is generally discouraged unless you have very specific needs not met by existing solutions (like Auth0, Firebase, etc.), but if you proceed, here's a breakdown of best practices:\n",
      "\n",
      "**I. Password Handling:**\n",
      "\n",
      "* **Hashing:**  **Never** store passwords in plain text.  Use a strong, one-way hashing algorithm like bcrypt or Argon2.  These are designed to be computationally expensive to crack, even with rainbow tables.  Python's `bcrypt` library is a good choice.  Avoid MD5 and SHA-1; they are considered insecure.\n",
      "\n",
      "* **Salting:**  Always salt your passwords before hashing.  A salt is a random string added to the password before hashing.  This prevents attackers from pre-computing hashes for common passwords.  The salt should be unique for each password and stored alongside the hashed password.\n",
      "\n",
      "* **Key Stretching:**  Use a sufficiently high iteration count for your hashing algorithm.  This increases the computational cost for attackers, making cracking more difficult.  Bcrypt and Argon2 handle this automatically through parameters you set.\n",
      "\n",
      "* **Password Complexity Requirements:**  Enforce strong password policies on the client-side (frontend) and server-side.  Require a minimum length, a mix of uppercase and lowercase letters, numbers, and special characters.  Validate these requirements before even starting the hashing process.\n",
      "\n",
      "* **Password Reset Functionality:**  Implement a secure password reset mechanism.  Use time-limited tokens (e.g., via email) to verify user identity and prevent attacks.  Consider using a library that specializes in this for extra security.\n",
      "\n",
      "**II. Authentication Mechanisms:**\n",
      "\n",
      "* **JWT (JSON Web Tokens):**  JWTs are a popular choice for stateless authentication.  After successful authentication, issue a JWT containing user information (ID, roles, etc.).  This token is then passed in subsequent requests (e.g., in the `Authorization` header).  Libraries like `PyJWT` simplify JWT handling.\n",
      "\n",
      "* **Session Management (with caution):**  Session-based authentication is more stateful and requires careful consideration of security.  If you use sessions, employ robust session management techniques, including:\n",
      "    * Secure cookies (HTTPOnly and Secure flags) to prevent client-side scripting attacks.\n",
      "    * Short session lifetimes.\n",
      "    * Regularly rotating session IDs.\n",
      "\n",
      "* **API Keys (for non-user authentication):** If you need to authenticate APIs or services, use API keys.  Consider different key types with varying levels of permissions.  Store API keys securely and revoke them when necessary.\n",
      "\n",
      "**III. Security Best Practices:**\n",
      "\n",
      "* **Input Validation and Sanitization:**  Always validate and sanitize user inputs to prevent injection attacks (SQL injection, cross-site scripting (XSS)).\n",
      "\n",
      "* **HTTPS:**  Use HTTPS to encrypt communication between the client and the server.  This protects passwords and other sensitive data from eavesdropping.\n",
      "\n",
      "* **Rate Limiting:**  Implement rate limiting to prevent brute-force attacks.  This limits the number of authentication attempts from a single IP address within a specific time window.\n",
      "\n",
      "* **Regular Security Audits:**  Regularly review your code and security practices to identify and address vulnerabilities.\n",
      "\n",
      "* **Output Encoding:**  Properly encode outputs to prevent XSS vulnerabilities.  Use template engines or escape functions where appropriate to handle data in HTML context.\n",
      "\n",
      "* **Error Handling:** Avoid giving detailed error messages that might expose sensitive information about your system. Generic error messages are better for security.\n",
      "\n",
      "\n",
      "**IV. Code Structure (Example Snippet):**\n",
      "\n",
      "This is a simplified example showcasing password hashing with bcrypt:\n",
      "\n",
      "\n",
      "```python\n",
      "from fastapi import FastAPI, HTTPException, Depends\n",
      "from fastapi.security import OAuth2PasswordBearer, OAuth2PasswordRequestForm\n",
      "from passlib.context import CryptContext\n",
      "from datetime import datetime, timedelta\n",
      "\n",
      "app = FastAPI()\n",
      "pwd_context = CryptContext(schemes=[\"bcrypt\"], deprecated=\"auto\")\n",
      "oauth2_scheme = OAuth2PasswordBearer(tokenUrl=\"token\")\n",
      "\n",
      "# In-memory user storage (replace with a database in production)\n",
      "users = {}\n",
      "\n",
      "def verify_password(plain_password, hashed_password):\n",
      "    return pwd_context.verify(plain_password, hashed_password)\n",
      "\n",
      "def get_password_hash(password):\n",
      "    return pwd_context.hash(password)\n",
      "\n",
      "\n",
      "@app.post(\"/token\")\n",
      "async def token(form_data: OAuth2PasswordRequestForm = Depends()):\n",
      "    user = users.get(form_data.username)\n",
      "    if not user or not verify_password(form_data.password, user[\"password\"]):\n",
      "        raise HTTPException(status_code=400, detail=\"Incorrect username or password\")\n",
      "    access_token_expires = timedelta(minutes=30)\n",
      "    access_token = \"your_jwt_token_logic_here(user['id'], access_token_expires)\" #Replace with your JWT generation logic\n",
      "    return {\"access_token\": access_token, \"token_type\": \"bearer\"}\n",
      "\n",
      "\n",
      "@app.get(\"/users/me\")\n",
      "async def read_users_me(token: str = Depends(oauth2_scheme)):\n",
      "    #Verify and extract user info from the token\n",
      "    # ... your token verification and user retrieval logic here ...\n",
      "    return {\"user\": \"your user data\"}\n",
      "\n",
      "\n",
      "@app.post(\"/register\")\n",
      "async def register(username:str, password: str):\n",
      "    hashed_password = get_password_hash(password)\n",
      "    users[username] = {\"password\": hashed_password}\n",
      "    return {\"message\": \"User registered successfully\"}\n",
      "\n",
      "\n",
      "```\n",
      "\n",
      "Remember to replace the placeholder comments with your actual JWT generation, token verification, and database interaction logic.  This example is for illustrative purposes and lacks many security features necessary for a production environment.  Always thoroughly test your authentication system before deploying it.  Consider using a dedicated security library for JWTs and other aspects of authentication to simplify development and improve security.\n",
      "\n"
     ]
    }
   ],
   "execution_count": 14
  },
  {
   "cell_type": "markdown",
   "id": "3d84cd8c-126b-4f09-90fc-0e3af85ed785",
   "metadata": {},
   "source": [
    "## Prompt: \"What are the trade-offs?\""
   ]
  },
  {
   "cell_type": "code",
   "id": "14347b5f-d287-4395-ae16-3c5f69bdf9a3",
   "metadata": {
    "ExecuteTime": {
     "end_time": "2024-12-10T11:23:38.286456Z",
     "start_time": "2024-12-10T11:23:29.601137Z"
    }
   },
   "source": [
    "prompt = f\"\"\"\n",
    "I am developing a new project utilizing a client-server architecture, implementing microservices. \n",
    "I am familiar with the challenges related to service discovery. \n",
    "Could you elucidate the trade-offs associated with the various approaches to service discovery?\n",
    "\"\"\"\n",
    "\n",
    "print(get_completion(prompt))"
   ],
   "outputs": [
    {
     "name": "stdout",
     "output_type": "stream",
     "text": [
      "Let's explore the trade-offs of different service discovery approaches in a microservices architecture.  The key aspects to consider are:\n",
      "\n",
      "**1. Client-side vs. Server-side Discovery:**\n",
      "\n",
      "* **Client-side discovery:** Clients are responsible for finding the addresses of services.  This often uses a service registry (like Consul, etcd, ZooKeeper, or even a simple database).\n",
      "\n",
      "    * **Pros:**\n",
      "        * **Simplicity (potentially):**  Can be simpler to implement initially, especially with less complex deployments.\n",
      "        * **Resilience (potentially):** Clients can have built-in retries and fallback mechanisms.\n",
      "        * **Flexibility:** Clients can choose their load balancing strategies.\n",
      "    * **Cons:**\n",
      "        * **Increased client complexity:** Clients need to handle service discovery logic, increasing their codebase and testing burden.\n",
      "        * **Tight coupling:** Clients are directly coupled to the service registry.  A change in the registry's format or location requires client updates.\n",
      "        * **Scalability issues:**  Clients need to maintain their own service registry knowledge, potentially overwhelming them in large deployments.\n",
      "\n",
      "\n",
      "* **Server-side discovery:** A dedicated component (often a reverse proxy like Nginx or HAProxy, or a service mesh like Istio or Linkerd) handles service discovery. Clients interact with this component, which forwards requests to the appropriate services.\n",
      "\n",
      "    * **Pros:**\n",
      "        * **Simplified clients:** Clients don't need service discovery logic, reducing their complexity.\n",
      "        * **Loose coupling:** Clients are decoupled from the service registry. Changes in the registry don't impact clients directly.\n",
      "        * **Centralized management:**  Easier to manage load balancing, health checks, and other infrastructure concerns.\n",
      "        * **Enhanced security:**  The server-side component can handle authentication and authorization.\n",
      "    * **Cons:**\n",
      "        * **Increased complexity:** Requires managing and maintaining an additional component.\n",
      "        * **Single point of failure (potential):** The discovery component becomes a critical dependency.  Proper redundancy and high availability are crucial.\n",
      "        * **Performance overhead:**  Adds an extra hop in the request path.\n",
      "\n",
      "\n",
      "**2. Specific Service Discovery Mechanisms:**\n",
      "\n",
      "* **Centralized Registries (Consul, etcd, ZooKeeper):**\n",
      "\n",
      "    * **Pros:**  Mature, feature-rich, support multiple consistency models, provide health checks, and are widely adopted.\n",
      "    * **Cons:**  Introduce a single point of failure (unless properly clustered), can be complex to set up and manage.  May introduce latency due to the extra network hop.\n",
      "\n",
      "* **Peer-to-peer (Gossip protocols):**\n",
      "\n",
      "    * **Pros:**  Decentralized, highly resilient, no single point of failure.\n",
      "    * **Cons:**  More complex to implement, can be less efficient than centralized approaches for large deployments.  Potentially slower convergence on service locations.\n",
      "\n",
      "* **DNS-based Service Discovery:**\n",
      "\n",
      "    * **Pros:**  Leverages existing infrastructure, relatively simple to implement.  Many load balancers already integrate with DNS.\n",
      "    * **Cons:**  Can be slower to update than other methods due to DNS TTLs.  May require custom DNS solutions for complex scenarios.  Doesn't intrinsically handle health checks.\n",
      "\n",
      "* **Service Mesh (Istio, Linkerd):**\n",
      "\n",
      "    * **Pros:**  Provides advanced features like traffic management, observability, security, and automated service discovery.\n",
      "    * **Cons:**  Significant complexity to set up and manage.  Adds overhead.  Steeper learning curve.\n",
      "\n",
      "\n",
      "**Trade-off Summary Table:**\n",
      "\n",
      "| Feature          | Client-side              | Server-side              |\n",
      "|-----------------|---------------------------|---------------------------|\n",
      "| Client Complexity | High                       | Low                        |\n",
      "| Deployment Complexity | Lower (initially)          | Higher                     |\n",
      "| Scalability       | Limited                    | Better                     |\n",
      "| Resilience       | Dependent on implementation | Better (with redundancy) |\n",
      "| Coupling         | Tight                      | Loose                      |\n",
      "| Single Point of Failure | Potentially the registry | Potentially the proxy/mesh|\n",
      "\n",
      "\n",
      "**Choosing the Right Approach:**\n",
      "\n",
      "The best approach depends on several factors, including:\n",
      "\n",
      "* **Project size and complexity:** For smaller projects, client-side discovery might suffice.  For larger, complex projects, server-side discovery or a service mesh is generally preferred.\n",
      "* **Team expertise:** Consider your team's familiarity with different technologies and architectures.\n",
      "* **Scalability requirements:**  For highly scalable systems, a robust server-side solution or a service mesh is usually necessary.\n",
      "* **Performance requirements:** Consider the latency overhead introduced by each approach.\n",
      "* **Security requirements:**  A service mesh offers advanced security features.\n",
      "\n",
      "\n",
      "Thoroughly evaluating these trade-offs will guide you towards the optimal service discovery strategy for your microservices project.  Start with a simpler approach if possible and consider migrating to a more sophisticated solution as your needs evolve.\n",
      "\n"
     ]
    }
   ],
   "execution_count": 15
  },
  {
   "cell_type": "markdown",
   "id": "d9520b75-61e3-47c8-a240-e5c8f3fed270",
   "metadata": {},
   "source": [
    "## Prompt: \"Using X, Y, Z, build me a ...\""
   ]
  },
  {
   "cell_type": "code",
   "id": "640c210d-3436-4245-9379-669296383385",
   "metadata": {
    "ExecuteTime": {
     "end_time": "2024-12-10T11:24:17.192509Z",
     "start_time": "2024-12-10T11:24:10.767959Z"
    }
   },
   "source": [
    "prompt = f\"\"\"\n",
    "Using codespell, black and isort create a pre-commit configuration file for python using pre-commit library\n",
    "\"\"\"\n",
    "print(get_completion(prompt))"
   ],
   "outputs": [
    {
     "name": "stdout",
     "output_type": "stream",
     "text": [
      "```yaml\n",
      "repos:\n",
      "-   repo: https://github.com/codespell-project/codespell\n",
      "    rev: v2.2.1\n",
      "    hooks:\n",
      "    -   id: codespell\n",
      "        stages: [commit]\n",
      "        args:\n",
      "          - --quiet\n",
      "          - --ignore-words-file=.codespell-ignore\n",
      "\n",
      "-   repo: https://github.com/psf/black\n",
      "    rev: 23.1.0\n",
      "    hooks:\n",
      "    -   id: black\n",
      "        stages: [commit]\n",
      "        args:\n",
      "          - --line-length=79\n",
      "\n",
      "-   repo: https://github.com/pycqa/isort\n",
      "    rev: 5.12.0\n",
      "    hooks:\n",
      "    -   id: isort\n",
      "        stages: [commit]\n",
      "        args:\n",
      "          - --profile=black\n",
      "\n",
      "```\n",
      "\n",
      "**Explanation:**\n",
      "\n",
      "* **`repos`:** This section lists the repositories from which pre-commit will install hooks.\n",
      "* **`repo`:** Specifies the Git repository URL for each tool (codespell, black, isort).  It's crucial to use a specific, stable version (like `rev: v2.2.1` or `rev: 23.1.0`) rather than `main` or `master` to avoid unexpected changes in the tool's behavior over time.\n",
      "* **`rev`:**  Specifies the commit or tag to check out from the repository. Using a specific version ensures consistency and avoids potential breaking changes.  It's good practice to regularly update these versions to benefit from bug fixes and improvements.\n",
      "* **`hooks`:** This section defines the individual hooks for each tool.\n",
      "* **`id`:** The unique identifier for the hook.  It matches the name of the tool.\n",
      "* **`stages`:** This specifies when the hook should run. `commit` means it runs before each commit.  Other options include `push`, `manual`, etc.\n",
      "* **`args`:** This allows you to pass extra arguments to the tool.  The examples show:\n",
      "    * **`codespell`**: `--quiet` suppresses unnecessary output, and `--ignore-words-file=.codespell-ignore` allows you to specify a file containing words to ignore. Create this file (`touch .codespell-ignore`) and add any words that codespell should ignore.\n",
      "    * **`black`**: `--line-length=79` sets the maximum line length to 79 characters. Adjust this if needed to fit your preferred style.\n",
      "    * **`isort`**: `--profile=black` configures isort to match Black's import ordering and style.  This ensures consistent formatting across the codebase.\n",
      "\n",
      "**Before using this:**\n",
      "\n",
      "1. **Install `pre-commit`:**  If you haven't already, install pre-commit: `pip install pre-commit`\n",
      "2. **Create the `.pre-commit-config.yaml` file:** Save this YAML content as `.pre-commit-config.yaml` in your project's root directory.\n",
      "3. **Run `pre-commit install`:** This command installs the hooks into your Git repository.\n",
      "\n",
      "Now, every time you try to commit changes, pre-commit will automatically run codespell, black, and isort on your Python files before the commit is allowed.  This will help to maintain a consistent and clean codebase.  Remember to periodically update the `rev` numbers in your `.pre-commit-config.yaml` file to benefit from the latest improvements and bug fixes.\n",
      "\n"
     ]
    }
   ],
   "execution_count": 16
  },
  {
   "cell_type": "markdown",
   "id": "aa4186cf-c51e-40e9-a410-e547ade1a232",
   "metadata": {},
   "source": [
    "## Prompt: \"Transform this code into...\""
   ]
  },
  {
   "cell_type": "code",
   "id": "70a5428a-d2ae-4f42-82f9-eb6e810f0249",
   "metadata": {
    "ExecuteTime": {
     "end_time": "2024-12-10T11:24:33.911912Z",
     "start_time": "2024-12-10T11:24:30.585356Z"
    }
   },
   "source": [
    "code = \"\"\"\n",
    "#!/bin/bash\n",
    "\n",
    "# Bash script to read a file line by line\n",
    "\n",
    "filename=\"README.md\"\n",
    "\n",
    "# Check if the file exists\n",
    "if [[ -f \"$filename\" ]]; then\n",
    "    while IFS= read -r line\n",
    "    do\n",
    "        echo \"$line\"\n",
    "    done < \"$filename\"\n",
    "else\n",
    "    echo \"File not found!\"\n",
    "fi\n",
    "\"\"\"\n",
    "prompt = f\"\"\"\n",
    "Can you transform this bash code: {{{code}}} to Python?\n",
    "\"\"\"\n",
    "\n",
    "print(get_completion(prompt))"
   ],
   "outputs": [
    {
     "name": "stdout",
     "output_type": "stream",
     "text": [
      "Several ways exist to translate the bash script to Python. Here are two options, one using a `try-except` block for error handling and another demonstrating a more concise approach:\n",
      "\n",
      "\n",
      "**Option 1:  Using `try-except` for error handling**\n",
      "\n",
      "This option mirrors the bash script's structure more closely:\n",
      "\n",
      "\n",
      "```python\n",
      "filename = \"README.md\"\n",
      "\n",
      "try:\n",
      "    with open(filename, 'r') as file:\n",
      "        for line in file:\n",
      "            print(line, end='') # end='' prevents extra newline\n",
      "except FileNotFoundError:\n",
      "    print(\"File not found!\")\n",
      "\n",
      "```\n",
      "\n",
      "This version explicitly handles the `FileNotFoundError` exception, making it robust to situations where the file doesn't exist.  The `end=''` in the `print()` function prevents adding an extra newline character, matching the bash script's behavior.\n",
      "\n",
      "\n",
      "**Option 2: More concise approach**\n",
      "\n",
      "This approach leverages Python's exception handling and file iteration capabilities for a more compact solution:\n",
      "\n",
      "\n",
      "```python\n",
      "filename = \"README.md\"\n",
      "\n",
      "try:\n",
      "    with open(filename) as f:\n",
      "        print(f.read()) #reads the whole file\n",
      "except FileNotFoundError:\n",
      "    print(\"File not found!\")\n",
      "\n",
      "```\n",
      "\n",
      "This is shorter because Python's `with open()` automatically closes the file, and `f.read()` reads the entire file content at once.  However, for extremely large files, this might consume more memory than iterating line by line (as in Option 1).  Choose the option that best suits your needs and the expected size of the files you'll be processing.\n",
      "\n"
     ]
    }
   ],
   "execution_count": 17
  },
  {
   "cell_type": "markdown",
   "id": "4d486f7d-dbfb-4c45-b625-df040813239e",
   "metadata": {},
   "source": [
    "## Prompt: \"Write a bash script\""
   ]
  },
  {
   "cell_type": "code",
   "id": "1fbd54c7-3d6f-4ed7-9e6e-b4f1110454ec",
   "metadata": {
    "ExecuteTime": {
     "end_time": "2024-12-10T11:24:59.619028Z",
     "start_time": "2024-12-10T11:24:55.715051Z"
    }
   },
   "source": [
    "prompt = \"\"\"\n",
    "Write me a bash script that will find all files in my ~/Desktop directory that end in jpg, JPG, png, or PNG \n",
    "and copy them to the ~/Documents/tmp folder.\n",
    "\"\"\"\n",
    "\n",
    "print(get_completion(prompt))"
   ],
   "outputs": [
    {
     "name": "stdout",
     "output_type": "stream",
     "text": [
      "```bash\n",
      "#!/bin/bash\n",
      "\n",
      "# Source and destination directories\n",
      "source_dir=\"$HOME/Desktop\"\n",
      "dest_dir=\"$HOME/Documents/tmp\"\n",
      "\n",
      "# Create the destination directory if it doesn't exist\n",
      "mkdir -p \"$dest_dir\"\n",
      "\n",
      "# Find and copy the image files\n",
      "find \"$source_dir\" -type f \\( -iname \"*.jpg\" -o -iname \"*.png\" \\) -exec cp {} \"$dest_dir\" \\;\n",
      "\n",
      "# Check if any files were copied\n",
      "if [ $? -eq 0 ]; then\n",
      "  echo \"Image files copied successfully to $dest_dir\"\n",
      "else\n",
      "  echo \"Error copying image files.\"\n",
      "fi\n",
      "\n",
      "```\n",
      "\n",
      "This script does the following:\n",
      "\n",
      "1. **Sets variables:**  It defines variables for the source and destination directories using `$HOME` for portability.\n",
      "2. **Creates destination directory:** It uses `mkdir -p` to create the `~/Documents/tmp` directory if it doesn't already exist.  The `-p` option creates parent directories as needed.\n",
      "3. **Finds and copies files:**  `find` searches the source directory for files (`-type f`) that match the specified patterns.  `\\( -iname \"*.jpg\" -o -iname \"*.png\" \\)` uses `-iname` for case-insensitive matching and `-o` for \"or\" logic.  `-exec cp {} \"$dest_dir\" \\;` executes the `cp` command for each found file, copying it to the destination directory. `{}` is a placeholder for the found filename.\n",
      "4. **Checks for errors:** It checks the exit status of the `find` command using `$?`.  A status of 0 indicates success.\n",
      "\n",
      "\n",
      "Before running this script, make sure you have a `~/Documents` directory.  You can run the script by making it executable (`chmod +x your_script_name.sh`) and then running it from your terminal.  Replace `your_script_name.sh` with the actual name you saved the script as.\n",
      "\n"
     ]
    }
   ],
   "execution_count": 18
  },
  {
   "cell_type": "markdown",
   "id": "ff3f5446-922b-4b7b-8085-30e08b7a33bc",
   "metadata": {},
   "source": [
    "## Prompt: \"Build me a script in [language] that...\""
   ]
  },
  {
   "cell_type": "code",
   "id": "97ddfee0-ace9-4dfc-a08e-9d7cfae59974",
   "metadata": {
    "ExecuteTime": {
     "end_time": "2024-12-10T11:25:27.240109Z",
     "start_time": "2024-12-10T11:25:20.187054Z"
    }
   },
   "source": [
    "prompt = \"\"\"\n",
    "Write a script in python that performs the following steps:\n",
    "\n",
    "1. Goes to a YouTube channel\n",
    "2. Finds the top 10 videos by view count\n",
    "3. Saves the title, a URL to the thumbnail, and view count in a file called `youtube.txt`\n",
    "\"\"\"\n",
    "\n",
    "print(get_completion(prompt))"
   ],
   "outputs": [
    {
     "name": "stdout",
     "output_type": "stream",
     "text": [
      "This script requires the `requests` and `beautifulsoup4` libraries.  Make sure you have them installed (`pip install requests beautifulsoup4`).  **This script scrapes data, and YouTube's terms of service may prohibit this. Use responsibly and at your own risk.**\n",
      "\n",
      "```python\n",
      "import requests\n",
      "from bs4 import BeautifulSoup\n",
      "\n",
      "def get_top_ten_youtube_videos(channel_url):\n",
      "    \"\"\"\n",
      "    Scrapes the top 10 videos from a YouTube channel based on view count.\n",
      "\n",
      "    Args:\n",
      "        channel_url: The URL of the YouTube channel.\n",
      "\n",
      "    Returns:\n",
      "        A list of dictionaries, where each dictionary contains the title, thumbnail URL, and view count of a video.  Returns None if there's an error.\n",
      "    \"\"\"\n",
      "\n",
      "    try:\n",
      "        response = requests.get(channel_url)\n",
      "        response.raise_for_status()  # Raise an exception for bad status codes\n",
      "\n",
      "        soup = BeautifulSoup(response.content, 'html.parser')\n",
      "\n",
      "        # YouTube's structure changes frequently.  This part is fragile and might break.\n",
      "        #  Inspect the channel page's HTML to adapt the selectors if necessary.\n",
      "\n",
      "        video_elements = soup.find_all('ytd-grid-video-renderer')\n",
      "        top_ten_videos = []\n",
      "\n",
      "        for i, element in enumerate(video_elements):\n",
      "            if i >= 10:  # Only get the top 10\n",
      "                break\n",
      "\n",
      "            title_element = element.find('a', id='video-title')\n",
      "            thumbnail_element = element.find('img', {'id': 'img'})\n",
      "            view_count_element = element.find('span', {'class': 'style-scope ytd-grid-video-renderer'})\n",
      "\n",
      "\n",
      "            if title_element and thumbnail_element and view_count_element:\n",
      "                title = title_element['title']\n",
      "                thumbnail_url = thumbnail_element['src']\n",
      "                view_count = view_count_element.text.strip()\n",
      "                top_ten_videos.append({\n",
      "                    'title': title,\n",
      "                    'thumbnail_url': thumbnail_url,\n",
      "                    'view_count': view_count\n",
      "                })\n",
      "\n",
      "\n",
      "        return top_ten_videos\n",
      "\n",
      "    except requests.exceptions.RequestException as e:\n",
      "        print(f\"An error occurred during the request: {e}\")\n",
      "        return None\n",
      "    except Exception as e:\n",
      "        print(f\"An error occurred: {e}\")\n",
      "        return None\n",
      "\n",
      "\n",
      "def save_to_file(data, filename=\"youtube.txt\"):\n",
      "    \"\"\"Saves the video data to a text file.\"\"\"\n",
      "    if data:\n",
      "      try:\n",
      "        with open(filename, 'w', encoding='utf-8') as f:\n",
      "            for video in data:\n",
      "                f.write(f\"Title: {video['title']}\\n\")\n",
      "                f.write(f\"Thumbnail URL: {video['thumbnail_url']}\\n\")\n",
      "                f.write(f\"View Count: {video['view_count']}\\n\\n\")\n",
      "        print(f\"Data saved to {filename}\")\n",
      "      except Exception as e:\n",
      "        print(f\"An error occurred while saving to file: {e}\")\n",
      "\n",
      "\n",
      "if __name__ == \"__main__\":\n",
      "    channel_url = input(\"Enter the YouTube channel URL: \") #e.g., \"https://www.youtube.com/@somechannel\"\n",
      "    top_videos = get_top_ten_youtube_videos(channel_url)\n",
      "    save_to_file(top_videos)\n",
      "\n",
      "```\n",
      "\n",
      "Remember to replace `\"https://www.youtube.com/@somechannel\"` with the actual URL of the YouTube channel you want to scrape.  The selectors used to find elements in the HTML are quite brittle and may need adjustments depending on how YouTube's page structure changes over time.  Always inspect the webpage's source code to understand how to adapt the selectors.\n",
      "\n"
     ]
    }
   ],
   "execution_count": 19
  },
  {
   "cell_type": "code",
   "execution_count": null,
   "id": "a54bc3c2-0ef1-4be5-9398-6fec312880b0",
   "metadata": {},
   "outputs": [],
   "source": []
  }
 ],
 "metadata": {
  "kernelspec": {
   "display_name": "Python 3 (ipykernel)",
   "language": "python",
   "name": "python3"
  },
  "language_info": {
   "codemirror_mode": {
    "name": "ipython",
    "version": 3
   },
   "file_extension": ".py",
   "mimetype": "text/x-python",
   "name": "python",
   "nbconvert_exporter": "python",
   "pygments_lexer": "ipython3",
   "version": "3.11.0"
  }
 },
 "nbformat": 4,
 "nbformat_minor": 5
}
