{
 "cells": [
  {
   "cell_type": "markdown",
   "id": "60610500-c185-4c2f-aa65-ef049b4b0a1a",
   "metadata": {},
   "source": [
    "# Transforming\n",
    "\n",
    "In this notebook, we will explore how to use Large Language Models for text transformation tasks such as language translation, spelling and grammar checking, tone adjustment, and format conversion.\n",
    "\n",
    "## Setup"
   ]
  },
  {
   "cell_type": "code",
   "execution_count": null,
   "id": "67d5b9c1-d8a5-4e56-ab2f-e65ca407a371",
   "metadata": {},
   "outputs": [],
   "source": [
    "!pip install redlines"
   ]
  },
  {
   "cell_type": "code",
   "execution_count": null,
   "id": "ea2c6336-218a-4079-8d1d-25d006273e39",
   "metadata": {},
   "outputs": [],
   "source": [
    "import google.generativeai as genai\n",
    "\n",
    "genai.configure(api_key=\"api_key\")\n",
    "\n",
    "\n",
    "def get_completion(prompt):\n",
    "    \"\"\"\n",
    "    Get the completion for a given prompt using the specified model.\n",
    "    Returns the answer with the highest score.\n",
    "    \"\"\"\n",
    "    model = genai.GenerativeModel(\n",
    "            \"models/gemini-2.0-flash\",\n",
    "            system_instruction=\"You are a user.\",\n",
    "        )\n",
    "    response = model.generate_content(prompt)\n",
    "    return response.text"
   ]
  },
  {
   "cell_type": "markdown",
   "id": "b8cac092-ad86-4c55-b893-2912991fe7c1",
   "metadata": {},
   "source": [
    "## Translation\n",
    "\n",
    "The model is trained with sources in many languages. This gives the model the ability to do translation. Here are some examples of how to use this capability."
   ]
  },
  {
   "cell_type": "code",
   "execution_count": null,
   "id": "5fd5169a-deb9-47af-aabd-3ae71a80cc11",
   "metadata": {},
   "outputs": [],
   "source": [
    "prompt = f\"\"\"\n",
    "Translate the following English text to Spanish: \n",
    "```Hi, I would like to order a blender```\n",
    "\"\"\"\n",
    "\n",
    "print(get_completion(prompt))"
   ]
  },
  {
   "cell_type": "code",
   "execution_count": null,
   "id": "ce0d85b0-997a-4ef7-9d58-060fe5fc02a1",
   "metadata": {},
   "outputs": [],
   "source": [
    "prompt = f\"\"\"\n",
    "Tell me which language this is: \n",
    "```Combien coûte le lampadaire?```\n",
    "\"\"\"\n",
    "\n",
    "print(get_completion(prompt))"
   ]
  },
  {
   "cell_type": "code",
   "execution_count": null,
   "id": "3221c558-bcc1-4033-b930-c7004dc41548",
   "metadata": {},
   "outputs": [],
   "source": [
    "prompt = f\"\"\"\n",
    "Translate the following text to Spanish in both the \n",
    "formal and informal forms: \n",
    "'Would you like to order a pillow?'\n",
    "\"\"\"\n",
    "\n",
    "print(get_completion(prompt))"
   ]
  },
  {
   "cell_type": "markdown",
   "id": "4a0383cc-9351-4597-a81a-bb873946d34e",
   "metadata": {},
   "source": [
    "## Tone Transformation\n",
    "Writing can vary based on the intended audience. The model can produce different tones."
   ]
  },
  {
   "cell_type": "code",
   "execution_count": null,
   "id": "2da1489e-433e-408b-a39c-0aea4b820d20",
   "metadata": {},
   "outputs": [],
   "source": [
    "prompt = f\"\"\"\n",
    "Translate the following from slang to a business letter: \n",
    "'Dude, This is Joe, check out this spec on this standing lamp.'\n",
    "\"\"\"\n",
    "\n",
    "print(get_completion(prompt))"
   ]
  },
  {
   "cell_type": "markdown",
   "id": "8f79c8c4-aa86-4992-b091-dfd41e3b9eeb",
   "metadata": {},
   "source": [
    "## Format Conversion\n",
    "The model can translate between formats. The prompt should describe the input and output formats."
   ]
  },
  {
   "cell_type": "code",
   "execution_count": null,
   "id": "699fc051-aa14-48b5-b4a6-a05edcb69354",
   "metadata": {},
   "outputs": [],
   "source": [
    "data_json = { \"resturant employees\" :[ \n",
    "    {\"name\":\"Shyam\", \"email\":\"shyamjaiswal@gmail.com\"},\n",
    "    {\"name\":\"Bob\", \"email\":\"bob32@gmail.com\"},\n",
    "    {\"name\":\"Jai\", \"email\":\"jai87@gmail.com\"}\n",
    "]}\n",
    "\n",
    "prompt = f\"\"\"\n",
    "Translate the following python dictionary from JSON to an HTML \n",
    "table with column headers and title: {data_json}\n",
    "Skip the how to and print only the HTML \n",
    "\"\"\"\n",
    "\n",
    "response = get_completion(prompt)\n",
    "print(response)"
   ]
  },
  {
   "cell_type": "code",
   "execution_count": null,
   "id": "ee1c280e-c50d-4601-b60f-8e13cf7f571c",
   "metadata": {},
   "outputs": [],
   "source": [
    "from IPython.display import display, Markdown, HTML\n",
    "display(HTML(response))"
   ]
  },
  {
   "cell_type": "markdown",
   "id": "0c0abf6a-ee55-45f0-8af4-2f39c166ec14",
   "metadata": {},
   "source": [
    "## Spellcheck/Grammar check.\n",
    "\n",
    "Here is an example of common grammar and spelling problem and the LLM's response. "
   ]
  },
  {
   "cell_type": "code",
   "execution_count": null,
   "id": "b6ea0a83-b9ce-46b1-96a0-c63c49d6230c",
   "metadata": {},
   "outputs": [],
   "source": [
    "text = f\"\"\"\n",
    "Got this for my daughter for her birthday cuz she keeps taking \n",
    "mine from my room.  Yes, adults also like pandas too.  She takes \n",
    "it everywhere with her, and it's super soft and cute.  One of the \n",
    "ears is a bit lower than the other, and I don't think that was \n",
    "designed to be asymmetrical. It's a bit small for what I paid for it \n",
    "though. I think there might be other options that are bigger for \n",
    "the same price.  It arrived a day earlier than expected, so I got \n",
    "to play with it myself before I gave it to my daughter.\n",
    "\"\"\"\n",
    "prompt = f\"proofread and correct this review: ```{text}```\"\n",
    "\n",
    "response = get_completion(prompt)\n",
    "print(response)"
   ]
  },
  {
   "cell_type": "markdown",
   "id": "ad7722f3b3b5abdf",
   "metadata": {},
   "source": [
    "Let’s switch to Grammarly style:"
   ]
  },
  {
   "cell_type": "code",
   "execution_count": null,
   "id": "f49c608b-9d97-42d1-8099-7347acf653f5",
   "metadata": {},
   "outputs": [],
   "source": [
    "from redlines import Redlines\n",
    "\n",
    "diff = Redlines(text,response)\n",
    "display(Markdown(diff.output_markdown))"
   ]
  },
  {
   "cell_type": "markdown",
   "id": "48f8debe6acf71a3",
   "metadata": {},
   "source": [
    "Proofread and correct this review:"
   ]
  },
  {
   "cell_type": "code",
   "execution_count": null,
   "id": "b3ced410-9e82-4882-a876-d927489e1bc1",
   "metadata": {},
   "outputs": [],
   "source": [
    "prompt = f\"\"\"\n",
    "Proofread and correct this review. Make it more compelling. \n",
    "Ensure it follows APA style guide and targets an advanced reader. \n",
    "Output in markdown format.\n",
    "Text: ```{text}```\n",
    "\"\"\"\n",
    "response = get_completion(prompt)\n",
    "display(Markdown(response))"
   ]
  },
  {
   "cell_type": "code",
   "execution_count": null,
   "id": "34937df7-ae2e-4d4c-aa3f-115038bf2789",
   "metadata": {},
   "outputs": [],
   "source": []
  }
 ],
 "metadata": {
  "kernelspec": {
   "display_name": "Python 3 (ipykernel)",
   "language": "python",
   "name": "python3"
  },
  "language_info": {
   "codemirror_mode": {
    "name": "ipython",
    "version": 3
   },
   "file_extension": ".py",
   "mimetype": "text/x-python",
   "name": "python",
   "nbconvert_exporter": "python",
   "pygments_lexer": "ipython3",
   "version": "3.11.6"
  }
 },
 "nbformat": 4,
 "nbformat_minor": 5
}
